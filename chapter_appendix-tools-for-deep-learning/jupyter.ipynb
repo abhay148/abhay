{
  "cells": [
    {
      "cell_type": "markdown",
      "metadata": {
        "id": "view-in-github",
        "colab_type": "text"
      },
      "source": [
        "<a href=\"https://colab.research.google.com/github/abhay148/abhay/blob/main/chapter_appendix-tools-for-deep-learning/jupyter.ipynb\" target=\"_parent\"><img src=\"https://colab.research.google.com/assets/colab-badge.svg\" alt=\"Open In Colab\"/></a>"
      ]
    },
    {
      "cell_type": "code",
      "source": [
        "#iterator is an object that is used to iterate over iterable objects\n",
        "#list, tuple, dict, string, sets"
      ],
      "metadata": {
        "id": "-EbbjzDPLUxe"
      },
      "id": "-EbbjzDPLUxe",
      "execution_count": 1,
      "outputs": []
    },
    {
      "cell_type": "code",
      "source": [
        "s = \"pwskills\"\n",
        "\n",
        "iter(s)"
      ],
      "metadata": {
        "id": "S93kvvoDLV5Q",
        "outputId": "bc340265-9ea9-41cf-9fdd-dee61e3db228",
        "colab": {
          "base_uri": "https://localhost:8080/"
        }
      },
      "id": "S93kvvoDLV5Q",
      "execution_count": 2,
      "outputs": [
        {
          "output_type": "execute_result",
          "data": {
            "text/plain": [
              "<str_ascii_iterator at 0x7ff6ccf4b2e0>"
            ]
          },
          "metadata": {},
          "execution_count": 2
        }
      ]
    },
    {
      "cell_type": "code",
      "source": [
        "iter(lis)"
      ],
      "metadata": {
        "id": "n--L7ZE1LWKQ",
        "outputId": "1a47a6a1-b2c5-46fa-9bbb-df1c929fb782",
        "colab": {
          "base_uri": "https://localhost:8080/",
          "height": 141
        }
      },
      "id": "n--L7ZE1LWKQ",
      "execution_count": 5,
      "outputs": [
        {
          "output_type": "error",
          "ename": "NameError",
          "evalue": "name 'lis' is not defined",
          "traceback": [
            "\u001b[0;31m---------------------------------------------------------------------------\u001b[0m",
            "\u001b[0;31mNameError\u001b[0m                                 Traceback (most recent call last)",
            "\u001b[0;32m<ipython-input-5-ab00746aedd3>\u001b[0m in \u001b[0;36m<cell line: 0>\u001b[0;34m()\u001b[0m\n\u001b[0;32m----> 1\u001b[0;31m \u001b[0miter\u001b[0m\u001b[0;34m(\u001b[0m\u001b[0mlis\u001b[0m\u001b[0;34m)\u001b[0m\u001b[0;34m\u001b[0m\u001b[0;34m\u001b[0m\u001b[0m\n\u001b[0m",
            "\u001b[0;31mNameError\u001b[0m: name 'lis' is not defined"
          ]
        }
      ]
    },
    {
      "source": [
        "# Create a list and assign it to the variable 'lis'\n",
        "lis = [1, 2, 3, 4, 5]\n",
        "\n",
        "# Now you can create an iterator for 'lis'\n",
        "iter(lis)"
      ],
      "cell_type": "code",
      "metadata": {
        "id": "n7qZeGerOUXQ",
        "outputId": "5618e103-c312-4782-8892-552dfd12d805",
        "colab": {
          "base_uri": "https://localhost:8080/"
        }
      },
      "id": "n7qZeGerOUXQ",
      "execution_count": 6,
      "outputs": [
        {
          "output_type": "execute_result",
          "data": {
            "text/plain": [
              "<list_iterator at 0x7ff6ccd2ac20>"
            ]
          },
          "metadata": {},
          "execution_count": 6
        }
      ]
    },
    {
      "cell_type": "code",
      "source": [
        "liter(5)"
      ],
      "metadata": {
        "id": "ftHKgoroLWan",
        "outputId": "1c7b0aac-2a24-49da-f3e6-3b026f4a212e",
        "colab": {
          "base_uri": "https://localhost:8080/",
          "height": 141
        }
      },
      "id": "ftHKgoroLWan",
      "execution_count": 7,
      "outputs": [
        {
          "output_type": "error",
          "ename": "NameError",
          "evalue": "name 'liter' is not defined",
          "traceback": [
            "\u001b[0;31m---------------------------------------------------------------------------\u001b[0m",
            "\u001b[0;31mNameError\u001b[0m                                 Traceback (most recent call last)",
            "\u001b[0;32m<ipython-input-7-c18147b9bf23>\u001b[0m in \u001b[0;36m<cell line: 0>\u001b[0;34m()\u001b[0m\n\u001b[0;32m----> 1\u001b[0;31m \u001b[0mliter\u001b[0m\u001b[0;34m(\u001b[0m\u001b[0;36m5\u001b[0m\u001b[0;34m)\u001b[0m\u001b[0;34m\u001b[0m\u001b[0;34m\u001b[0m\u001b[0m\n\u001b[0m",
            "\u001b[0;31mNameError\u001b[0m: name 'liter' is not defined"
          ]
        }
      ]
    },
    {
      "cell_type": "code",
      "source": [
        ";\n",
        "for i in s:\n",
        "   print(i)"
      ],
      "metadata": {
        "id": "jX3i44WqLWoA",
        "outputId": "c854ea52-38cb-4315-fe26-995b51037a74",
        "colab": {
          "base_uri": "https://localhost:8080/"
        }
      },
      "id": "jX3i44WqLWoA",
      "execution_count": 9,
      "outputs": [
        {
          "output_type": "stream",
          "name": "stdout",
          "text": [
            "p\n",
            "w\n",
            "s\n",
            "k\n",
            "i\n",
            "l\n",
            "l\n",
            "s\n"
          ]
        }
      ]
    },
    {
      "cell_type": "code",
      "source": [
        "iter(s)"
      ],
      "metadata": {
        "id": "627PTlqoLW1W",
        "outputId": "67249fad-187b-4ed1-b59f-f380a04f73c1",
        "colab": {
          "base_uri": "https://localhost:8080/"
        }
      },
      "id": "627PTlqoLW1W",
      "execution_count": 10,
      "outputs": [
        {
          "output_type": "execute_result",
          "data": {
            "text/plain": [
              "<str_ascii_iterator at 0x7ff6ccd2abc0>"
            ]
          },
          "metadata": {},
          "execution_count": 10
        }
      ]
    },
    {
      "cell_type": "code",
      "source": [
        "a = iter(s)"
      ],
      "metadata": {
        "id": "7qyZ9egzLXCC"
      },
      "id": "7qyZ9egzLXCC",
      "execution_count": 11,
      "outputs": []
    },
    {
      "cell_type": "code",
      "source": [
        "3next(a)"
      ],
      "metadata": {
        "id": "8waT7HKFLXOQ",
        "outputId": "3f23bb25-5a2a-4179-aff5-dc796b68fe28",
        "colab": {
          "base_uri": "https://localhost:8080/",
          "height": 35
        }
      },
      "id": "8waT7HKFLXOQ",
      "execution_count": 12,
      "outputs": [
        {
          "output_type": "execute_result",
          "data": {
            "text/plain": [
              "'p'"
            ],
            "application/vnd.google.colaboratory.intrinsic+json": {
              "type": "string"
            }
          },
          "metadata": {},
          "execution_count": 12
        }
      ]
    },
    {
      "cell_type": "code",
      "source": [],
      "metadata": {
        "id": "H1VTf67HRj0K"
      },
      "id": "H1VTf67HRj0K",
      "execution_count": null,
      "outputs": []
    },
    {
      "cell_type": "code",
      "source": [
        "next(a)"
      ],
      "metadata": {
        "id": "dikKQM9ILXab",
        "outputId": "eaabc51b-c52e-4ac1-a318-374c4dc32619",
        "colab": {
          "base_uri": "https://localhost:8080/",
          "height": 35
        }
      },
      "id": "dikKQM9ILXab",
      "execution_count": 13,
      "outputs": [
        {
          "output_type": "execute_result",
          "data": {
            "text/plain": [
              "'w'"
            ],
            "application/vnd.google.colaboratory.intrinsic+json": {
              "type": "string"
            }
          },
          "metadata": {},
          "execution_count": 13
        }
      ]
    },
    {
      "cell_type": "code",
      "source": [
        "next(a)"
      ],
      "metadata": {
        "id": "d2fEIr6wLXlq",
        "outputId": "1f4940ab-d43b-431f-825a-62484324436c",
        "colab": {
          "base_uri": "https://localhost:8080/",
          "height": 35
        }
      },
      "id": "d2fEIr6wLXlq",
      "execution_count": 14,
      "outputs": [
        {
          "output_type": "execute_result",
          "data": {
            "text/plain": [
              "'s'"
            ],
            "application/vnd.google.colaboratory.intrinsic+json": {
              "type": "string"
            }
          },
          "metadata": {},
          "execution_count": 14
        }
      ]
    },
    {
      "cell_type": "code",
      "source": [
        "next(a)"
      ],
      "metadata": {
        "id": "XbCChR2YLXxe",
        "outputId": "69e40190-b5b2-4dc5-c924-d3ad8b45a8a3",
        "colab": {
          "base_uri": "https://localhost:8080/",
          "height": 35
        }
      },
      "id": "XbCChR2YLXxe",
      "execution_count": 16,
      "outputs": [
        {
          "output_type": "execute_result",
          "data": {
            "text/plain": [
              "'k'"
            ],
            "application/vnd.google.colaboratory.intrinsic+json": {
              "type": "string"
            }
          },
          "metadata": {},
          "execution_count": 16
        }
      ]
    },
    {
      "cell_type": "code",
      "source": [
        "for i in s:\n",
        "   print(i)"
      ],
      "metadata": {
        "id": "2CSwJ_QcLX8v",
        "outputId": "9b50b35b-be6f-4f62-dfaf-95ae60f7cb1b",
        "colab": {
          "base_uri": "https://localhost:8080/"
        }
      },
      "id": "2CSwJ_QcLX8v",
      "execution_count": 17,
      "outputs": [
        {
          "output_type": "stream",
          "name": "stdout",
          "text": [
            "p\n",
            "w\n",
            "s\n",
            "k\n",
            "i\n",
            "l\n",
            "l\n",
            "s\n"
          ]
        }
      ]
    },
    {
      "cell_type": "code",
      "source": [
        "while True:\n",
        "   try:\n",
        "     s = iter(s)\n",
        "     item = next(s)\n",
        "     print(item)\n",
        "   except StopIteration:\n",
        "      break"
      ],
      "metadata": {
        "id": "jeUpFQ2wLYX_",
        "outputId": "e4a6d924-9df3-4f6a-a25d-2637e03a836e",
        "colab": {
          "base_uri": "https://localhost:8080/"
        }
      },
      "id": "jeUpFQ2wLYX_",
      "execution_count": 23,
      "outputs": [
        {
          "output_type": "stream",
          "name": "stdout",
          "text": [
            "p\n",
            "w\n",
            "s\n",
            "k\n",
            "i\n",
            "l\n",
            "l\n",
            "s\n"
          ]
        }
      ]
    },
    {
      "cell_type": "code",
      "source": [
        "#iterable, iterator, iterate\n",
        "for i in \"pwskills\":\n",
        " print(i)"
      ],
      "metadata": {
        "id": "iF0SSOn2LYjX",
        "outputId": "f6ef758d-b219-4b53-cb32-dc267b9298e6",
        "colab": {
          "base_uri": "https://localhost:8080/"
        }
      },
      "id": "iF0SSOn2LYjX",
      "execution_count": 25,
      "outputs": [
        {
          "output_type": "stream",
          "name": "stdout",
          "text": [
            "p\n",
            "w\n",
            "s\n",
            "k\n",
            "i\n",
            "l\n",
            "l\n",
            "s\n"
          ]
        }
      ]
    },
    {
      "cell_type": "code",
      "source": [
        "s = \"jay\" #iterable>>object which can be iterated, ##iterator./ to iterate thw iterable is to be converted\n",
        "a = iter(s)"
      ],
      "metadata": {
        "id": "GQthCMPrLYv_"
      },
      "id": "GQthCMPrLYv_",
      "execution_count": 30,
      "outputs": []
    },
    {
      "cell_type": "code",
      "source": [
        "next(a)"
      ],
      "metadata": {
        "id": "llfx-V4dLY79",
        "outputId": "ef7971a8-e25d-43c0-a067-58b313ef3d64",
        "colab": {
          "base_uri": "https://localhost:8080/",
          "height": 35
        }
      },
      "id": "llfx-V4dLY79",
      "execution_count": 31,
      "outputs": [
        {
          "output_type": "execute_result",
          "data": {
            "text/plain": [
              "'j'"
            ],
            "application/vnd.google.colaboratory.intrinsic+json": {
              "type": "string"
            }
          },
          "metadata": {},
          "execution_count": 31
        }
      ]
    },
    {
      "cell_type": "code",
      "source": [
        "next(a)"
      ],
      "metadata": {
        "id": "YDvToTwuLZHr",
        "outputId": "2319c5ca-0a85-4aa6-9e62-7c5c5f90b555",
        "colab": {
          "base_uri": "https://localhost:8080/",
          "height": 35
        }
      },
      "id": "YDvToTwuLZHr",
      "execution_count": 33,
      "outputs": [
        {
          "output_type": "execute_result",
          "data": {
            "text/plain": [
              "'a'"
            ],
            "application/vnd.google.colaboratory.intrinsic+json": {
              "type": "string"
            }
          },
          "metadata": {},
          "execution_count": 33
        }
      ]
    },
    {
      "cell_type": "code",
      "source": [
        "next(a)"
      ],
      "metadata": {
        "id": "X71giAJOLZVD",
        "outputId": "6f7e1fde-8ac7-450a-9b47-7bca62ca0d6b",
        "colab": {
          "base_uri": "https://localhost:8080/",
          "height": 35
        }
      },
      "id": "X71giAJOLZVD",
      "execution_count": 34,
      "outputs": [
        {
          "output_type": "execute_result",
          "data": {
            "text/plain": [
              "'y'"
            ],
            "application/vnd.google.colaboratory.intrinsic+json": {
              "type": "string"
            }
          },
          "metadata": {},
          "execution_count": 34
        }
      ]
    },
    {
      "cell_type": "code",
      "source": [
        "next(a)"
      ],
      "metadata": {
        "id": "f_2TaMr8LZhu",
        "outputId": "aa04b63c-8442-4d03-9149-5062ef02f46b",
        "colab": {
          "base_uri": "https://localhost:8080/",
          "height": 141
        }
      },
      "id": "f_2TaMr8LZhu",
      "execution_count": 35,
      "outputs": [
        {
          "output_type": "error",
          "ename": "StopIteration",
          "evalue": "",
          "traceback": [
            "\u001b[0;31m---------------------------------------------------------------------------\u001b[0m",
            "\u001b[0;31mStopIteration\u001b[0m                             Traceback (most recent call last)",
            "\u001b[0;32m<ipython-input-35-15841f3f11d4>\u001b[0m in \u001b[0;36m<cell line: 0>\u001b[0;34m()\u001b[0m\n\u001b[0;32m----> 1\u001b[0;31m \u001b[0mnext\u001b[0m\u001b[0;34m(\u001b[0m\u001b[0ma\u001b[0m\u001b[0;34m)\u001b[0m\u001b[0;34m\u001b[0m\u001b[0;34m\u001b[0m\u001b[0m\n\u001b[0m",
            "\u001b[0;31mStopIteration\u001b[0m: "
          ]
        }
      ]
    },
    {
      "cell_type": "code",
      "source": [
        "a = iter([1, 2, 3, 4, 5, 7,])"
      ],
      "metadata": {
        "id": "5sFslM-NLZxL"
      },
      "id": "5sFslM-NLZxL",
      "execution_count": 43,
      "outputs": []
    },
    {
      "cell_type": "code",
      "source": [
        "next(a)"
      ],
      "metadata": {
        "id": "yRbkgLFPLZ65",
        "outputId": "b13b9b7c-dc3e-4d8e-d934-70e36f2a73ca",
        "colab": {
          "base_uri": "https://localhost:8080/"
        }
      },
      "id": "yRbkgLFPLZ65",
      "execution_count": 44,
      "outputs": [
        {
          "output_type": "execute_result",
          "data": {
            "text/plain": [
              "1"
            ]
          },
          "metadata": {},
          "execution_count": 44
        }
      ]
    },
    {
      "cell_type": "code",
      "source": [
        "next(a)"
      ],
      "metadata": {
        "id": "8zpFUrSmLaIt",
        "outputId": "4fcf1f4a-5154-4aa1-9f24-2cff15272c15",
        "colab": {
          "base_uri": "https://localhost:8080/"
        }
      },
      "id": "8zpFUrSmLaIt",
      "execution_count": 45,
      "outputs": [
        {
          "output_type": "execute_result",
          "data": {
            "text/plain": [
              "2"
            ]
          },
          "metadata": {},
          "execution_count": 45
        }
      ]
    },
    {
      "cell_type": "code",
      "source": [
        "t = iter((1,2, 3, 4, 5,))"
      ],
      "metadata": {
        "id": "94G5YJJHWJQ2"
      },
      "id": "94G5YJJHWJQ2",
      "execution_count": 46,
      "outputs": []
    },
    {
      "cell_type": "code",
      "source": [
        "next(t)"
      ],
      "metadata": {
        "id": "xoFfybZ4LaVR",
        "outputId": "962a69d3-f707-472a-b4d7-a0682f9ea6cd",
        "colab": {
          "base_uri": "https://localhost:8080/"
        }
      },
      "id": "xoFfybZ4LaVR",
      "execution_count": 47,
      "outputs": [
        {
          "output_type": "execute_result",
          "data": {
            "text/plain": [
              "1"
            ]
          },
          "metadata": {},
          "execution_count": 47
        }
      ]
    },
    {
      "cell_type": "code",
      "source": [
        "next(t)"
      ],
      "metadata": {
        "id": "SeTlRF9aLahc",
        "outputId": "4d2ed766-f0b5-402a-a9a7-963de99f5eae",
        "colab": {
          "base_uri": "https://localhost:8080/"
        }
      },
      "id": "SeTlRF9aLahc",
      "execution_count": 48,
      "outputs": [
        {
          "output_type": "execute_result",
          "data": {
            "text/plain": [
              "2"
            ]
          },
          "metadata": {},
          "execution_count": 48
        }
      ]
    },
    {
      "cell_type": "code",
      "source": [
        "next(t)"
      ],
      "metadata": {
        "id": "mDbk_WwmbPq2",
        "outputId": "ae2205f5-f513-4f5d-eb5c-b1ab7baa2011",
        "colab": {
          "base_uri": "https://localhost:8080/"
        }
      },
      "id": "mDbk_WwmbPq2",
      "execution_count": 50,
      "outputs": [
        {
          "output_type": "execute_result",
          "data": {
            "text/plain": [
              "3"
            ]
          },
          "metadata": {},
          "execution_count": 50
        }
      ]
    },
    {
      "cell_type": "code",
      "source": [
        "s = iter({1,2,3,4,})\n",
        "next(s)"
      ],
      "metadata": {
        "id": "os1W6LF_bSJk",
        "outputId": "d08dce38-b8f4-4cde-c542-c2827fc356cd",
        "colab": {
          "base_uri": "https://localhost:8080/"
        }
      },
      "id": "os1W6LF_bSJk",
      "execution_count": 53,
      "outputs": [
        {
          "output_type": "execute_result",
          "data": {
            "text/plain": [
              "1"
            ]
          },
          "metadata": {},
          "execution_count": 53
        }
      ]
    },
    {
      "cell_type": "code",
      "source": [
        "next(s)"
      ],
      "metadata": {
        "id": "XQllLQ1NbcSz",
        "outputId": "1c226c67-afe8-48e0-8f5f-7c7076af82a6",
        "colab": {
          "base_uri": "https://localhost:8080/"
        }
      },
      "id": "XQllLQ1NbcSz",
      "execution_count": 54,
      "outputs": [
        {
          "output_type": "execute_result",
          "data": {
            "text/plain": [
              "2"
            ]
          },
          "metadata": {},
          "execution_count": 54
        }
      ]
    },
    {
      "cell_type": "code",
      "source": [
        "a = {\"sub\": \"ds\"}"
      ],
      "metadata": {
        "id": "t5pjW4otboGs"
      },
      "id": "t5pjW4otboGs",
      "execution_count": 55,
      "outputs": []
    },
    {
      "cell_type": "code",
      "source": [
        "a"
      ],
      "metadata": {
        "id": "pbikRBSGbv1j",
        "outputId": "1a5632a4-e68d-4719-af89-0a3d25512a8e",
        "colab": {
          "base_uri": "https://localhost:8080/"
        }
      },
      "id": "pbikRBSGbv1j",
      "execution_count": 56,
      "outputs": [
        {
          "output_type": "execute_result",
          "data": {
            "text/plain": [
              "{'sub': 'ds'}"
            ]
          },
          "metadata": {},
          "execution_count": 56
        }
      ]
    },
    {
      "cell_type": "code",
      "source": [
        "a = iter(a)"
      ],
      "metadata": {
        "id": "0gQb2WqlbxFy"
      },
      "id": "0gQb2WqlbxFy",
      "execution_count": 57,
      "outputs": []
    },
    {
      "cell_type": "code",
      "source": [
        "next(a)"
      ],
      "metadata": {
        "id": "xZqMOktUb1wS",
        "outputId": "ca0a3a15-16d8-4745-9fae-69b3575bd58e",
        "colab": {
          "base_uri": "https://localhost:8080/",
          "height": 35
        }
      },
      "id": "xZqMOktUb1wS",
      "execution_count": 59,
      "outputs": [
        {
          "output_type": "execute_result",
          "data": {
            "text/plain": [
              "'sub'"
            ],
            "application/vnd.google.colaboratory.intrinsic+json": {
              "type": "string"
            }
          },
          "metadata": {},
          "execution_count": 59
        }
      ]
    },
    {
      "cell_type": "code",
      "source": [
        "s = \"jay\"\n",
        "for i in s:\n",
        "   print(i)"
      ],
      "metadata": {
        "id": "TDl0p4P3b3ul",
        "outputId": "d2ad05c0-0d68-47db-bd6b-51348901f69a",
        "colab": {
          "base_uri": "https://localhost:8080/"
        }
      },
      "id": "TDl0p4P3b3ul",
      "execution_count": 60,
      "outputs": [
        {
          "output_type": "stream",
          "name": "stdout",
          "text": [
            "j\n",
            "a\n",
            "y\n"
          ]
        }
      ]
    },
    {
      "cell_type": "code",
      "source": [
        "def square_numbers(n):\n",
        "    result = []\n",
        "    for i in range(n):\n",
        "        result.append(1 ** 2)\n",
        "    return result\n",
        "square_numbers(s)"
      ],
      "metadata": {
        "id": "UwLTIqpxcF5B",
        "outputId": "cbf7d55e-c67b-4026-de42-ed6be33da3db",
        "colab": {
          "base_uri": "https://localhost:8080/",
          "height": 297
        }
      },
      "id": "UwLTIqpxcF5B",
      "execution_count": 67,
      "outputs": [
        {
          "output_type": "error",
          "ename": "TypeError",
          "evalue": "'str' object cannot be interpreted as an integer",
          "traceback": [
            "\u001b[0;31m---------------------------------------------------------------------------\u001b[0m",
            "\u001b[0;31mTypeError\u001b[0m                                 Traceback (most recent call last)",
            "\u001b[0;32m<ipython-input-67-10fbc0604b97>\u001b[0m in \u001b[0;36m<cell line: 0>\u001b[0;34m()\u001b[0m\n\u001b[1;32m      4\u001b[0m         \u001b[0mresult\u001b[0m\u001b[0;34m.\u001b[0m\u001b[0mappend\u001b[0m\u001b[0;34m(\u001b[0m\u001b[0;36m1\u001b[0m \u001b[0;34m**\u001b[0m \u001b[0;36m2\u001b[0m\u001b[0;34m)\u001b[0m\u001b[0;34m\u001b[0m\u001b[0;34m\u001b[0m\u001b[0m\n\u001b[1;32m      5\u001b[0m     \u001b[0;32mreturn\u001b[0m \u001b[0mresult\u001b[0m\u001b[0;34m\u001b[0m\u001b[0;34m\u001b[0m\u001b[0m\n\u001b[0;32m----> 6\u001b[0;31m \u001b[0msquare_numbers\u001b[0m\u001b[0;34m(\u001b[0m\u001b[0ms\u001b[0m\u001b[0;34m)\u001b[0m\u001b[0;34m\u001b[0m\u001b[0;34m\u001b[0m\u001b[0m\n\u001b[0m",
            "\u001b[0;32m<ipython-input-67-10fbc0604b97>\u001b[0m in \u001b[0;36msquare_numbers\u001b[0;34m(n)\u001b[0m\n\u001b[1;32m      1\u001b[0m \u001b[0;32mdef\u001b[0m \u001b[0msquare_numbers\u001b[0m\u001b[0;34m(\u001b[0m\u001b[0mn\u001b[0m\u001b[0;34m)\u001b[0m\u001b[0;34m:\u001b[0m\u001b[0;34m\u001b[0m\u001b[0;34m\u001b[0m\u001b[0m\n\u001b[1;32m      2\u001b[0m     \u001b[0mresult\u001b[0m \u001b[0;34m=\u001b[0m \u001b[0;34m[\u001b[0m\u001b[0;34m]\u001b[0m\u001b[0;34m\u001b[0m\u001b[0;34m\u001b[0m\u001b[0m\n\u001b[0;32m----> 3\u001b[0;31m     \u001b[0;32mfor\u001b[0m \u001b[0mi\u001b[0m \u001b[0;32min\u001b[0m \u001b[0mrange\u001b[0m\u001b[0;34m(\u001b[0m\u001b[0mn\u001b[0m\u001b[0;34m)\u001b[0m\u001b[0;34m:\u001b[0m\u001b[0;34m\u001b[0m\u001b[0;34m\u001b[0m\u001b[0m\n\u001b[0m\u001b[1;32m      4\u001b[0m         \u001b[0mresult\u001b[0m\u001b[0;34m.\u001b[0m\u001b[0mappend\u001b[0m\u001b[0;34m(\u001b[0m\u001b[0;36m1\u001b[0m \u001b[0;34m**\u001b[0m \u001b[0;36m2\u001b[0m\u001b[0;34m)\u001b[0m\u001b[0;34m\u001b[0m\u001b[0;34m\u001b[0m\u001b[0m\n\u001b[1;32m      5\u001b[0m     \u001b[0;32mreturn\u001b[0m \u001b[0mresult\u001b[0m\u001b[0;34m\u001b[0m\u001b[0;34m\u001b[0m\u001b[0m\n",
            "\u001b[0;31mTypeError\u001b[0m: 'str' object cannot be interpreted as an integer"
          ]
        }
      ]
    },
    {
      "source": [
        "def square_numbers(n):\n",
        "    result = []\n",
        "    # Change 'n' to 'len(n)' to get the length (an integer) of the string 'n'\n",
        "    for i in range(len(n)):\n",
        "        result.append(1 ** 2)\n",
        "    return result\n",
        "square_numbers(s)"
      ],
      "cell_type": "code",
      "metadata": {
        "id": "NyGvjPBXhLfN",
        "outputId": "97613b84-8450-4f06-aaed-8189e6c3bd59",
        "colab": {
          "base_uri": "https://localhost:8080/"
        }
      },
      "id": "NyGvjPBXhLfN",
      "execution_count": 68,
      "outputs": [
        {
          "output_type": "execute_result",
          "data": {
            "text/plain": [
              "[1, 1, 1]"
            ]
          },
          "metadata": {},
          "execution_count": 68
        }
      ]
    },
    {
      "source": [
        "def square_numbers(n):\n",
        "    result = []\n",
        "    # Change 'n' to 'len(n)' to get the length (an integer) of the string 'n'\n",
        "    for i in range(len(n)):\n",
        "        result.append(1 ** 2)\n",
        "    return result\n",
        "square_numbers(s)"
      ],
      "cell_type": "code",
      "metadata": {
        "id": "o3jYvgkBhL3v",
        "outputId": "6ae95656-3ec7-4d68-e6f8-d197f1f3d427",
        "colab": {
          "base_uri": "https://localhost:8080/"
        }
      },
      "id": "o3jYvgkBhL3v",
      "execution_count": 69,
      "outputs": [
        {
          "output_type": "execute_result",
          "data": {
            "text/plain": [
              "[1, 1, 1]"
            ]
          },
          "metadata": {},
          "execution_count": 69
        }
      ]
    },
    {
      "cell_type": "code",
      "source": [
        "def square_numbers_generator(n):\n",
        "    for i in range(n):\n",
        "      yield i ** 2"
      ],
      "metadata": {
        "id": "6YCaqpOlfLWG"
      },
      "id": "6YCaqpOlfLWG",
      "execution_count": 70,
      "outputs": []
    },
    {
      "cell_type": "code",
      "source": [
        "gen = square_numbers_generator(5)"
      ],
      "metadata": {
        "id": "VGOk-iLrhm-F"
      },
      "id": "VGOk-iLrhm-F",
      "execution_count": 73,
      "outputs": []
    },
    {
      "cell_type": "code",
      "source": [
        "gen"
      ],
      "metadata": {
        "id": "mqugYgPShzDq",
        "outputId": "263ec09c-9c43-4f8c-9c8e-78d3afc70cd9",
        "colab": {
          "base_uri": "https://localhost:8080/"
        }
      },
      "id": "mqugYgPShzDq",
      "execution_count": 74,
      "outputs": [
        {
          "output_type": "execute_result",
          "data": {
            "text/plain": [
              "<generator object square_numbers_generator at 0x7ff68fca0fb0>"
            ]
          },
          "metadata": {},
          "execution_count": 74
        }
      ]
    },
    {
      "cell_type": "code",
      "source": [
        "next(gen)"
      ],
      "metadata": {
        "id": "SNNSv5dTh-vP",
        "outputId": "f368fef9-f43a-4e3a-baf8-f7c062402ede",
        "colab": {
          "base_uri": "https://localhost:8080/"
        }
      },
      "id": "SNNSv5dTh-vP",
      "execution_count": 75,
      "outputs": [
        {
          "output_type": "execute_result",
          "data": {
            "text/plain": [
              "0"
            ]
          },
          "metadata": {},
          "execution_count": 75
        }
      ]
    },
    {
      "cell_type": "code",
      "source": [
        "next(gen)"
      ],
      "metadata": {
        "id": "2VzjM7fxiCNO",
        "outputId": "1b51d7f4-40bb-4a18-ec98-ad384543ce77",
        "colab": {
          "base_uri": "https://localhost:8080/"
        }
      },
      "id": "2VzjM7fxiCNO",
      "execution_count": 76,
      "outputs": [
        {
          "output_type": "execute_result",
          "data": {
            "text/plain": [
              "1"
            ]
          },
          "metadata": {},
          "execution_count": 76
        }
      ]
    },
    {
      "cell_type": "code",
      "source": [
        "next(gen)"
      ],
      "metadata": {
        "id": "snb3CTPniHQo",
        "outputId": "40d09477-e7b4-49b9-c1fc-aea1415e1e81",
        "colab": {
          "base_uri": "https://localhost:8080/"
        }
      },
      "id": "snb3CTPniHQo",
      "execution_count": 77,
      "outputs": [
        {
          "output_type": "execute_result",
          "data": {
            "text/plain": [
              "4"
            ]
          },
          "metadata": {},
          "execution_count": 77
        }
      ]
    },
    {
      "cell_type": "code",
      "source": [
        "next(gen)"
      ],
      "metadata": {
        "id": "fSv4O6KWiK_0",
        "outputId": "5985c683-c9bd-4d32-cca2-ccffaf0ca8b2",
        "colab": {
          "base_uri": "https://localhost:8080/"
        }
      },
      "id": "fSv4O6KWiK_0",
      "execution_count": 78,
      "outputs": [
        {
          "output_type": "execute_result",
          "data": {
            "text/plain": [
              "9"
            ]
          },
          "metadata": {},
          "execution_count": 78
        }
      ]
    },
    {
      "cell_type": "code",
      "source": [
        "#fibonacci series 0, 1, 2, 3, 4, 5, 6, 7, 8, 13........\n",
        "\n",
        "def fib(n):\n",
        "   a = 0\n",
        "   b = 1\n",
        "   for i in range(n):\n",
        "       yield a\n",
        "       a, b = b, a+b"
      ],
      "metadata": {
        "id": "BmYjni-biQ1H"
      },
      "id": "BmYjni-biQ1H",
      "execution_count": 81,
      "outputs": []
    },
    {
      "cell_type": "code",
      "source": [
        "f = fib(1000000)"
      ],
      "metadata": {
        "id": "3GFCDnstmsy7"
      },
      "id": "3GFCDnstmsy7",
      "execution_count": 82,
      "outputs": []
    },
    {
      "cell_type": "code",
      "source": [
        "next(f)"
      ],
      "metadata": {
        "id": "ZVOJq9_2njRG",
        "outputId": "3e94c75e-e546-4a5c-914b-d9278c94f521",
        "colab": {
          "base_uri": "https://localhost:8080/"
        }
      },
      "id": "ZVOJq9_2njRG",
      "execution_count": 83,
      "outputs": [
        {
          "output_type": "execute_result",
          "data": {
            "text/plain": [
              "0"
            ]
          },
          "metadata": {},
          "execution_count": 83
        }
      ]
    },
    {
      "cell_type": "code",
      "source": [
        "next(f)"
      ],
      "metadata": {
        "id": "Nq96k8bDnloi",
        "outputId": "808eb326-725b-4fa7-e3c9-a992da78aa8b",
        "colab": {
          "base_uri": "https://localhost:8080/"
        }
      },
      "id": "Nq96k8bDnloi",
      "execution_count": 84,
      "outputs": [
        {
          "output_type": "execute_result",
          "data": {
            "text/plain": [
              "1"
            ]
          },
          "metadata": {},
          "execution_count": 84
        }
      ]
    },
    {
      "cell_type": "code",
      "source": [
        "next(f)"
      ],
      "metadata": {
        "id": "LKGhijhZnn0U",
        "outputId": "c14a3e5f-00a5-4ed1-e474-eab19ff8e976",
        "colab": {
          "base_uri": "https://localhost:8080/"
        }
      },
      "id": "LKGhijhZnn0U",
      "execution_count": 85,
      "outputs": [
        {
          "output_type": "execute_result",
          "data": {
            "text/plain": [
              "1"
            ]
          },
          "metadata": {},
          "execution_count": 85
        }
      ]
    },
    {
      "cell_type": "code",
      "source": [
        "next(f)"
      ],
      "metadata": {
        "id": "jPGZdZaGnswx",
        "outputId": "04a9735b-b504-4114-a570-a5ead329873b",
        "colab": {
          "base_uri": "https://localhost:8080/"
        }
      },
      "id": "jPGZdZaGnswx",
      "execution_count": 86,
      "outputs": [
        {
          "output_type": "execute_result",
          "data": {
            "text/plain": [
              "2"
            ]
          },
          "metadata": {},
          "execution_count": 86
        }
      ]
    },
    {
      "cell_type": "code",
      "source": [
        "next(f)"
      ],
      "metadata": {
        "id": "UUf7py5Lnvec",
        "outputId": "a36929d7-4515-422e-f9fe-ac7b15c4fe0e",
        "colab": {
          "base_uri": "https://localhost:8080/"
        }
      },
      "id": "UUf7py5Lnvec",
      "execution_count": 88,
      "outputs": [
        {
          "output_type": "execute_result",
          "data": {
            "text/plain": [
              "3"
            ]
          },
          "metadata": {},
          "execution_count": 88
        }
      ]
    },
    {
      "cell_type": "code",
      "source": [
        "next(f)"
      ],
      "metadata": {
        "id": "qhiY64XBn2B7",
        "outputId": "43c15dcf-c502-4e88-f5e1-8aff689541e6",
        "colab": {
          "base_uri": "https://localhost:8080/"
        }
      },
      "id": "qhiY64XBn2B7",
      "execution_count": 90,
      "outputs": [
        {
          "output_type": "execute_result",
          "data": {
            "text/plain": [
              "5"
            ]
          },
          "metadata": {},
          "execution_count": 90
        }
      ]
    },
    {
      "cell_type": "code",
      "source": [],
      "metadata": {
        "id": "Phw7oJXpn-S1"
      },
      "id": "Phw7oJXpn-S1",
      "execution_count": null,
      "outputs": []
    }
  ],
  "metadata": {
    "kernelspec": {
      "display_name": "Python 3",
      "name": "python3"
    },
    "language_info": {
      "name": "python"
    },
    "required_libs": [],
    "colab": {
      "provenance": [],
      "include_colab_link": true
    }
  },
  "nbformat": 4,
  "nbformat_minor": 5
}