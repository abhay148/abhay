{
  "cells": [
    {
      "cell_type": "code",
      "source": [
        "def reverse_string(s):\n",
        "    return s[::-1]\n",
        "print(reverse_string(\"hello i am jay mahyavanshi\"))"
      ],
      "metadata": {
        "id": "6JSJsTfYpQqe",
        "outputId": "089bad3c-daa6-4359-ca92-097242799b8a",
        "colab": {
          "base_uri": "https://localhost:8080/"
        }
      },
      "id": "6JSJsTfYpQqe",
      "execution_count": 27,
      "outputs": [
        {
          "output_type": "stream",
          "name": "stdout",
          "text": [
            "ihsnavayham yaj ma i olleh\n"
          ]
        }
      ]
    },
    {
      "cell_type": "code",
      "source": [
        "def count_vowels(s):\n",
        "   vowels = 'aeiouAEIOU'\n",
        "   return sum(1 for char in s if char in vowels)\n",
        "print(count_vowels(\"hello i am jay mahyavanshi\"))"
      ],
      "metadata": {
        "id": "8UojZ8Y2p6vn",
        "outputId": "6e26b787-458a-4326-fd44-91b2f4acd87d",
        "colab": {
          "base_uri": "https://localhost:8080/"
        }
      },
      "id": "8UojZ8Y2p6vn",
      "execution_count": 29,
      "outputs": [
        {
          "output_type": "stream",
          "name": "stdout",
          "text": [
            "9\n"
          ]
        }
      ]
    },
    {
      "cell_type": "code",
      "source": [
        "def is_palindrome(s):\n",
        "    return s == s[::-1]\n",
        "print(is_palindrome(\"hello i am jay mahyavanshi\"))"
      ],
      "metadata": {
        "id": "2geVcT_TsUW1",
        "outputId": "84e4d829-c699-4482-af83-de7b7158f191",
        "colab": {
          "base_uri": "https://localhost:8080/"
        }
      },
      "id": "2geVcT_TsUW1",
      "execution_count": 30,
      "outputs": [
        {
          "output_type": "stream",
          "name": "stdout",
          "text": [
            "False\n"
          ]
        }
      ]
    },
    {
      "cell_type": "code",
      "source": [
        "def are_anagrams(s1, s2):\n",
        "    return sorted(s1) == sorted(s2)\n",
        "print(are_anagrams(\"listen\", \"slient\"))"
      ],
      "metadata": {
        "id": "QIIIY7URxuHa",
        "outputId": "82f8dfd4-57ae-46d3-84f3-0718e27dae37",
        "colab": {
          "base_uri": "https://localhost:8080/"
        }
      },
      "id": "QIIIY7URxuHa",
      "execution_count": 31,
      "outputs": [
        {
          "output_type": "stream",
          "name": "stdout",
          "text": [
            "True\n"
          ]
        }
      ]
    },
    {
      "cell_type": "code",
      "source": [],
      "metadata": {
        "id": "NX3CONy9zKOo"
      },
      "id": "NX3CONy9zKOo",
      "execution_count": null,
      "outputs": []
    }
  ],
  "metadata": {
    "kernelspec": {
      "display_name": "Python 3",
      "name": "python3"
    },
    "language_info": {
      "name": "python"
    },
    "required_libs": [],
    "colab": {
      "provenance": []
    }
  },
  "nbformat": 4,
  "nbformat_minor": 5
}