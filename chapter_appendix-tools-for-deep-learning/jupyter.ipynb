{
  "cells": [
    {
      "cell_type": "markdown",
      "metadata": {
        "id": "view-in-github",
        "colab_type": "text"
      },
      "source": [
        "<a href=\"https://colab.research.google.com/github/abhay148/abhay/blob/main/chapter_appendix-tools-for-deep-learning/jupyter.ipynb\" target=\"_parent\"><img src=\"https://colab.research.google.com/assets/colab-badge.svg\" alt=\"Open In Colab\"/></a>"
      ]
    },
    {
      "cell_type": "code",
      "source": [
        "#1. Explain the importance of Functions.\n",
        "#Functions allow us to modularize code by encapsulating reusable logic into blocks. This improves readability, reduces redundancy, and simplifies debugging and maintenance"
      ],
      "metadata": {
        "id": "eI40MVsRxiHZ"
      },
      "id": "eI40MVsRxiHZ",
      "execution_count": 36,
      "outputs": []
    },
    {
      "cell_type": "code",
      "source": [
        "def greet_students():\n",
        "    print(\"Hello, Students!\")"
      ],
      "metadata": {
        "id": "KaVDtBfDxh7F"
      },
      "id": "KaVDtBfDxh7F",
      "execution_count": 37,
      "outputs": []
    },
    {
      "cell_type": "code",
      "source": [
        "greet_students()"
      ],
      "metadata": {
        "id": "JxrDZApQxh2t",
        "outputId": "706e7f69-eeeb-4526-e23f-dd43f352fc8e",
        "colab": {
          "base_uri": "https://localhost:8080/"
        }
      },
      "id": "JxrDZApQxh2t",
      "execution_count": 38,
      "outputs": [
        {
          "output_type": "stream",
          "name": "stdout",
          "text": [
            "Hello, Students!\n"
          ]
        }
      ]
    },
    {
      "cell_type": "code",
      "source": [
        "def print_example():\n",
        "    print(\"This is print\")\n",
        "\n",
        "def return_example():\n",
        "    return \"This is return\"\n",
        "\n",
        "print_example()            # Prints: This is print\n",
        "result = return_example()  # Returns the string for further use\n",
        "print(result)              # Prints: This is return"
      ],
      "metadata": {
        "id": "DzVODNZmxhzy",
        "outputId": "8dbbd7ca-9b21-4ce3-e58b-b2fee216cfa7",
        "colab": {
          "base_uri": "https://localhost:8080/"
        }
      },
      "id": "DzVODNZmxhzy",
      "execution_count": 39,
      "outputs": [
        {
          "output_type": "stream",
          "name": "stdout",
          "text": [
            "This is print\n",
            "This is return\n"
          ]
        }
      ]
    },
    {
      "cell_type": "code",
      "source": [
        "def demo_args(*args):\n",
        "    print(\"Positional arguments:\", args)\n",
        "\n",
        "def demo_kwargs(**kwargs):\n",
        "    print(\"Keyword arguments:\", kwargs)\n",
        "\n",
        "demo_args(1, 2, 3)\n",
        "demo_kwargs(name=\"John\", age=25)"
      ],
      "metadata": {
        "id": "2mLHQvElxhwV",
        "outputId": "4f24201e-7d7a-42a6-c889-90b761e71836",
        "colab": {
          "base_uri": "https://localhost:8080/"
        }
      },
      "id": "2mLHQvElxhwV",
      "execution_count": 40,
      "outputs": [
        {
          "output_type": "stream",
          "name": "stdout",
          "text": [
            "Positional arguments: (1, 2, 3)\n",
            "Keyword arguments: {'name': 'John', 'age': 25}\n"
          ]
        }
      ]
    },
    {
      "cell_type": "code",
      "source": [
        "my_list = [1, 2, 3]\n",
        "iterator = iter(my_list)\n",
        "print(next(iterator))\n",
        "print(next(iterator))"
      ],
      "metadata": {
        "id": "uj0j3FILxhpo",
        "outputId": "0a2baddf-3e27-493c-ae1e-0dd6d8d38a39",
        "colab": {
          "base_uri": "https://localhost:8080/"
        }
      },
      "id": "uj0j3FILxhpo",
      "execution_count": 41,
      "outputs": [
        {
          "output_type": "stream",
          "name": "stdout",
          "text": [
            "1\n",
            "2\n"
          ]
        }
      ]
    },
    {
      "cell_type": "code",
      "source": [
        "def square_generator(n):\n",
        "    for i in range(1, n + 1):\n",
        "        yield i ** 2\n",
        "\n",
        "for square in square_generator(5):\n",
        "    print(square)"
      ],
      "metadata": {
        "id": "u7Daq9MX1UUF",
        "outputId": "f2aa17f3-ef51-4ace-c887-622b3f287b80",
        "colab": {
          "base_uri": "https://localhost:8080/"
        }
      },
      "id": "u7Daq9MX1UUF",
      "execution_count": 42,
      "outputs": [
        {
          "output_type": "stream",
          "name": "stdout",
          "text": [
            "1\n",
            "4\n",
            "9\n",
            "16\n",
            "25\n"
          ]
        }
      ]
    },
    {
      "cell_type": "code",
      "source": [
        "def square_generator(n):\n",
        "    for i in range(1, n + 1):\n",
        "        yield i ** 2\n",
        "\n",
        "for square in square_generator(5):\n",
        "    print(square)"
      ],
      "metadata": {
        "id": "zKRfWl3H1eZl",
        "outputId": "00635550-2995-482e-efd2-6fc0b6f4a592",
        "colab": {
          "base_uri": "https://localhost:8080/"
        }
      },
      "id": "zKRfWl3H1eZl",
      "execution_count": 43,
      "outputs": [
        {
          "output_type": "stream",
          "name": "stdout",
          "text": [
            "1\n",
            "4\n",
            "9\n",
            "16\n",
            "25\n"
          ]
        }
      ]
    },
    {
      "cell_type": "code",
      "source": [
        "def even_generator(n):\n",
        "    for i in range(2, n + 1, 2):\n",
        "        yield i\n",
        "\n",
        "for even in even_generator(10):\n",
        "    print(even)"
      ],
      "metadata": {
        "id": "TczJHgEo1m8e",
        "outputId": "d8b00c4c-f53e-448e-e850-12afdc6be9ac",
        "colab": {
          "base_uri": "https://localhost:8080/"
        }
      },
      "id": "TczJHgEo1m8e",
      "execution_count": 44,
      "outputs": [
        {
          "output_type": "stream",
          "name": "stdout",
          "text": [
            "2\n",
            "4\n",
            "6\n",
            "8\n",
            "10\n"
          ]
        }
      ]
    },
    {
      "cell_type": "code",
      "source": [
        "def power_of_two_generator(n):\n",
        "    for i in range(n + 1):\n",
        "        yield 2 ** i\n",
        "\n",
        "for power in power_of_two_generator(5):\n",
        "    print(power)"
      ],
      "metadata": {
        "id": "cpfFZ4k21vbF",
        "outputId": "3265e98b-c4e1-454b-de5c-1981cd98c1a9",
        "colab": {
          "base_uri": "https://localhost:8080/"
        }
      },
      "id": "cpfFZ4k21vbF",
      "execution_count": 45,
      "outputs": [
        {
          "output_type": "stream",
          "name": "stdout",
          "text": [
            "1\n",
            "2\n",
            "4\n",
            "8\n",
            "16\n",
            "32\n"
          ]
        }
      ]
    },
    {
      "cell_type": "code",
      "source": [
        "def prime_generator(n):\n",
        "    def is_prime(x):\n",
        "        if x < 2:\n",
        "            return False\n",
        "        for i in range(2, int(x ** 0.5) + 1):\n",
        "            if x % i == 0:\n",
        "                return False\n",
        "        return True\n",
        "\n",
        "    for i in range(2, n + 1):\n",
        "        if is_prime(i):\n",
        "            yield i\n",
        "\n",
        "for prime in prime_generator(20):\n",
        "    print(prime)"
      ],
      "metadata": {
        "id": "5rIj4zw613hl",
        "outputId": "7691fcb5-5e3f-4b09-b72a-7acd1bdcad13",
        "colab": {
          "base_uri": "https://localhost:8080/"
        }
      },
      "id": "5rIj4zw613hl",
      "execution_count": 46,
      "outputs": [
        {
          "output_type": "stream",
          "name": "stdout",
          "text": [
            "2\n",
            "3\n",
            "5\n",
            "7\n",
            "11\n",
            "13\n",
            "17\n",
            "19\n"
          ]
        }
      ]
    },
    {
      "cell_type": "code",
      "source": [
        "sum_two = lambda x, y: x + y\n",
        "print(sum_two(10, 20))"
      ],
      "metadata": {
        "id": "ZJfhGAtU2C4t",
        "outputId": "de423a15-91e1-4559-fd47-0d7a9758cf6d",
        "colab": {
          "base_uri": "https://localhost:8080/"
        }
      },
      "id": "ZJfhGAtU2C4t",
      "execution_count": 47,
      "outputs": [
        {
          "output_type": "stream",
          "name": "stdout",
          "text": [
            "30\n"
          ]
        }
      ]
    },
    {
      "cell_type": "code",
      "source": [
        "square = lambda x: x ** 2\n",
        "print(square(5))"
      ],
      "metadata": {
        "id": "_yphWQRe2WEV",
        "outputId": "39d9ab7b-148a-44df-9b90-5ef1e9f09126",
        "colab": {
          "base_uri": "https://localhost:8080/"
        }
      },
      "id": "_yphWQRe2WEV",
      "execution_count": 48,
      "outputs": [
        {
          "output_type": "stream",
          "name": "stdout",
          "text": [
            "25\n"
          ]
        }
      ]
    },
    {
      "cell_type": "code",
      "source": [
        "is_even = lambda x: \"Even\" if x % 2 == 0 else \"Odd\"\n",
        "print(is_even(10))\n",
        "print(is_even(11))"
      ],
      "metadata": {
        "id": "EHsAB0_W2dk1",
        "outputId": "03d571e9-17d3-4237-ba1e-81e79963e946",
        "colab": {
          "base_uri": "https://localhost:8080/"
        }
      },
      "id": "EHsAB0_W2dk1",
      "execution_count": 49,
      "outputs": [
        {
          "output_type": "stream",
          "name": "stdout",
          "text": [
            "Even\n",
            "Odd\n"
          ]
        }
      ]
    },
    {
      "cell_type": "code",
      "source": [
        "concat_strings = lambda s1, s2: s1 + s2\n",
        "print(concat_strings(\"Hello, \", \"World!\"))"
      ],
      "metadata": {
        "id": "GIR_iBa42kGF",
        "outputId": "11a11133-3a0c-4a1a-f963-0ef27d08767f",
        "colab": {
          "base_uri": "https://localhost:8080/"
        }
      },
      "id": "GIR_iBa42kGF",
      "execution_count": 50,
      "outputs": [
        {
          "output_type": "stream",
          "name": "stdout",
          "text": [
            "Hello, World!\n"
          ]
        }
      ]
    },
    {
      "cell_type": "code",
      "source": [
        "nums = [1, 2, 3, 4, 5, 6]\n",
        "even_squares = list(map(lambda x: x ** 2, filter(lambda x: x % 2 == 0, nums)))\n",
        "print(even_squares)"
      ],
      "metadata": {
        "id": "a7ApiOHY2sj1",
        "outputId": "41334c57-1808-451b-c4a7-5af5eb09fa4b",
        "colab": {
          "base_uri": "https://localhost:8080/"
        }
      },
      "id": "a7ApiOHY2sj1",
      "execution_count": 51,
      "outputs": [
        {
          "output_type": "stream",
          "name": "stdout",
          "text": [
            "[4, 16, 36]\n"
          ]
        }
      ]
    },
    {
      "cell_type": "code",
      "source": [
        "from functools import reduce\n",
        "\n",
        "nums = [-3, 4, -1, 2, 5]\n",
        "product_positive = reduce(lambda x, y: x * y, filter(lambda x: x > 0, nums))\n",
        "print(product_positive)"
      ],
      "metadata": {
        "id": "ETgu_3M82zkV",
        "outputId": "f69deb3c-1f34-4104-b23d-fb656395034d",
        "colab": {
          "base_uri": "https://localhost:8080/"
        }
      },
      "id": "ETgu_3M82zkV",
      "execution_count": 52,
      "outputs": [
        {
          "output_type": "stream",
          "name": "stdout",
          "text": [
            "40\n"
          ]
        }
      ]
    },
    {
      "cell_type": "code",
      "source": [
        "nums = [1, 2, 3, 4, 5]\n",
        "doubled_odds = list(map(lambda x: x * 2 if x % 2 != 0 else x, nums))\n",
        "print(doubled_odds)"
      ],
      "metadata": {
        "id": "PE3tkMSR28Yf",
        "outputId": "4d1fa6ef-311e-43fb-96a8-da73cff53519",
        "colab": {
          "base_uri": "https://localhost:8080/"
        }
      },
      "id": "PE3tkMSR28Yf",
      "execution_count": 53,
      "outputs": [
        {
          "output_type": "stream",
          "name": "stdout",
          "text": [
            "[2, 2, 6, 4, 10]\n"
          ]
        }
      ]
    },
    {
      "cell_type": "code",
      "source": [
        "nums = [1, 2, 3, 4]\n",
        "sum_of_cubes = sum(map(lambda x: x ** 3, nums))\n",
        "print(sum_of_cubes)"
      ],
      "metadata": {
        "id": "z_yCM0j23DOd",
        "outputId": "1a030531-1173-4a85-b43c-921c10916698",
        "colab": {
          "base_uri": "https://localhost:8080/"
        }
      },
      "id": "z_yCM0j23DOd",
      "execution_count": 54,
      "outputs": [
        {
          "output_type": "stream",
          "name": "stdout",
          "text": [
            "100\n"
          ]
        }
      ]
    },
    {
      "cell_type": "code",
      "source": [
        "nums = [10, 15, 17, 19, 21, 23]\n",
        "\n",
        "def is_prime(x):\n",
        "    if x < 2:\n",
        "        return False\n",
        "    for i in range(2, int(x ** 0.5) + 1):\n",
        "        if x % i == 0:\n",
        "            return False\n",
        "    return True\n",
        "\n",
        "prime_numbers = list(filter(is_prime, nums))\n",
        "print(prime_numbers)"
      ],
      "metadata": {
        "id": "JuoN3ajG3KP2",
        "outputId": "69870d7a-cd91-4118-f487-fb0c18cab120",
        "colab": {
          "base_uri": "https://localhost:8080/"
        }
      },
      "id": "JuoN3ajG3KP2",
      "execution_count": 55,
      "outputs": [
        {
          "output_type": "stream",
          "name": "stdout",
          "text": [
            "[17, 19, 23]\n"
          ]
        }
      ]
    },
    {
      "source": [
        "class Student:\n",
        "    def __init__(self, name, age): # Changed _init_ to __init__\n",
        "        self.__name = name  # Private attribute\n",
        "        self.__age = age    # Private attribute\n",
        "\n",
        "    def get_details(self):\n",
        "        return f\"Name: {self.__name}, Age: {self.__age}\" # Access private attributes with self.__name and self.__age\n",
        "\n",
        "\n",
        "student = Student(\"John\", 20) # Moved this line outside the get_details method\n",
        "print(student.get_details())  # Access through method"
      ],
      "cell_type": "code",
      "metadata": {
        "id": "ProTdRzW49Zu",
        "outputId": "e4549816-b085-40d7-efef-bef1f4e84968",
        "colab": {
          "base_uri": "https://localhost:8080/"
        }
      },
      "id": "ProTdRzW49Zu",
      "execution_count": 56,
      "outputs": [
        {
          "output_type": "stream",
          "name": "stdout",
          "text": [
            "Name: John, Age: 20\n"
          ]
        }
      ]
    },
    {
      "source": [
        "class Example:\n",
        "    def __init__(self): # Corrected constructor name to __init__\n",
        "        self.public = \"I am Public\"\n",
        "        self._protected = \"I am Protected\"\n",
        "        self.__private = \"I am Private\"\n",
        "\n",
        "    def show_private(self):\n",
        "        return self.__private\n",
        "\n",
        "obj = Example()\n",
        "print(obj.public)        # Accessible\n",
        "print(obj._protected)    # Accessible but discouraged\n",
        "print(obj.show_private())  # Accessed via a method"
      ],
      "cell_type": "code",
      "metadata": {
        "id": "Dzyq6rYu5y-8",
        "outputId": "03e7dc53-2894-4b11-ed24-90833f10de5f",
        "colab": {
          "base_uri": "https://localhost:8080/"
        }
      },
      "id": "Dzyq6rYu5y-8",
      "execution_count": 57,
      "outputs": [
        {
          "output_type": "stream",
          "name": "stdout",
          "text": [
            "I am Public\n",
            "I am Protected\n",
            "I am Private\n"
          ]
        }
      ]
    },
    {
      "cell_type": "code",
      "source": [
        "class Animal:\n",
        "    def speak(self):\n",
        "        print(\"Animal makes a sound\")\n",
        "\n",
        "class Dog(Animal):  # Dog inherits from Animal\n",
        "    def speak(self):\n",
        "        print(\"Dog barks\")\n",
        "\n",
        "dog = Dog()\n",
        "dog.speak()  # Overridden method"
      ],
      "metadata": {
        "id": "hkBn-oPn5iZH",
        "outputId": "61fc4ebb-b850-4c4a-ecba-5894a3009643",
        "colab": {
          "base_uri": "https://localhost:8080/"
        }
      },
      "id": "hkBn-oPn5iZH",
      "execution_count": 58,
      "outputs": [
        {
          "output_type": "stream",
          "name": "stdout",
          "text": [
            "Dog barks\n"
          ]
        }
      ]
    },
    {
      "cell_type": "code",
      "source": [
        "class Bird:\n",
        "    def fly(self):\n",
        "        print(\"Bird is flying\")\n",
        "\n",
        "class Penguin:\n",
        "    def fly(self):\n",
        "        print(\"Penguins can't fly\")\n",
        "\n",
        "# Polymorphism using a function\n",
        "def flying_test(animal):\n",
        "    animal.fly()\n",
        "\n",
        "flying_test(Bird())     # Bird is flying\n",
        "flying_test(Penguin())  # Penguins can't fly"
      ],
      "metadata": {
        "id": "TE0fs3Ai5ifv",
        "outputId": "5ca37c3e-583a-4fcc-e9e2-1dc180f005e4",
        "colab": {
          "base_uri": "https://localhost:8080/"
        }
      },
      "id": "TE0fs3Ai5ifv",
      "execution_count": 59,
      "outputs": [
        {
          "output_type": "stream",
          "name": "stdout",
          "text": [
            "Bird is flying\n",
            "Penguins can't fly\n"
          ]
        }
      ]
    },
    {
      "cell_type": "code",
      "source": [
        "class Parent:\n",
        "    def greet(self):\n",
        "        print(\"Hello from Parent\")\n",
        "\n",
        "class Child(Parent):\n",
        "    def greet(self):\n",
        "        print(\"Hello from Child\")\n",
        "\n",
        "obj = Child()\n",
        "obj.greet()  # Overrides Parent's method"
      ],
      "metadata": {
        "id": "HrNF8-z86lDu",
        "outputId": "7c374d15-f008-4a88-8eec-8610d0237d0b",
        "colab": {
          "base_uri": "https://localhost:8080/"
        }
      },
      "id": "HrNF8-z86lDu",
      "execution_count": 60,
      "outputs": [
        {
          "output_type": "stream",
          "name": "stdout",
          "text": [
            "Hello from Child\n"
          ]
        }
      ]
    },
    {
      "cell_type": "code",
      "source": [
        "class Animal:\n",
        "    def make_sound(self):\n",
        "        print(\"Generic animal sound\")\n",
        "\n",
        "class Dog(Animal):\n",
        "    def make_sound(self):\n",
        "        print(\"Woof!\")\n",
        "\n",
        "dog = Dog()\n",
        "dog.make_sound()"
      ],
      "metadata": {
        "id": "1Ln-cfKJ6t6h",
        "outputId": "2ef883bb-f1dd-4b11-d6c1-882a1a55b2a5",
        "colab": {
          "base_uri": "https://localhost:8080/"
        }
      },
      "id": "1Ln-cfKJ6t6h",
      "execution_count": 61,
      "outputs": [
        {
          "output_type": "stream",
          "name": "stdout",
          "text": [
            "Woof!\n"
          ]
        }
      ]
    },
    {
      "cell_type": "code",
      "source": [
        "class Animal:\n",
        "    def move(self):\n",
        "        print(\"Animal moves\")\n",
        "\n",
        "class Dog(Animal):\n",
        "    def move(self):\n",
        "        print(\"Dog runs\")\n",
        "\n",
        "dog = Dog()\n",
        "dog.move()"
      ],
      "metadata": {
        "id": "14_l2CRx66IY",
        "outputId": "83045ac5-7e08-4247-cb75-da5aa716c674",
        "colab": {
          "base_uri": "https://localhost:8080/"
        }
      },
      "id": "14_l2CRx66IY",
      "execution_count": 62,
      "outputs": [
        {
          "output_type": "stream",
          "name": "stdout",
          "text": [
            "Dog runs\n"
          ]
        }
      ]
    },
    {
      "cell_type": "code",
      "source": [
        "class Mammal:\n",
        "    def reproduce(self):\n",
        "        print(\"Giving birth to live young\")\n",
        "\n",
        "class DogMammal(Mammal, Dog):\n",
        "    pass"
      ],
      "metadata": {
        "id": "5gjjxY-E7NPe"
      },
      "id": "5gjjxY-E7NPe",
      "execution_count": 66,
      "outputs": []
    },
    {
      "cell_type": "code",
      "source": [
        "dog_mammal = DogMammal()\n",
        "dog_mammal.reproduce()\n",
        "dog_mammal.move()"
      ],
      "metadata": {
        "id": "p4-zZbVw9GNu",
        "outputId": "767717ea-1fbe-4fe0-d76d-62b05c6d2897",
        "colab": {
          "base_uri": "https://localhost:8080/"
        }
      },
      "id": "p4-zZbVw9GNu",
      "execution_count": 72,
      "outputs": [
        {
          "output_type": "stream",
          "name": "stdout",
          "text": [
            "Giving birth to live young\n",
            "Dog runs\n"
          ]
        }
      ]
    },
    {
      "cell_type": "code",
      "source": [
        "class GermanShepherd(Dog):\n",
        "    def make_sound(self):\n",
        "        print(\"Bark!\")"
      ],
      "metadata": {
        "id": "754EgGMF9LUL"
      },
      "id": "754EgGMF9LUL",
      "execution_count": 73,
      "outputs": []
    },
    {
      "cell_type": "code",
      "source": [
        "class Animal:\n",
        "    def _init_(self, name):\n",
        "        self.name = name\n",
        "\n",
        "class Dog(Animal):\n",
        "    def _init_(self, name, breed):\n",
        "        super()._init_(name)\n",
        "        self.breed = breed"
      ],
      "metadata": {
        "id": "xOYpfNTF-2PG"
      },
      "id": "xOYpfNTF-2PG",
      "execution_count": 74,
      "outputs": []
    },
    {
      "cell_type": "code",
      "source": [
        "#37. What is abstraction in Python?\n",
        "\n",
        "\n",
        "#Abstraction is hiding implementation details and showing only functionality."
      ],
      "metadata": {
        "id": "ViUOhZOd_cfe"
      },
      "id": "ViUOhZOd_cfe",
      "execution_count": 75,
      "outputs": []
    },
    {
      "cell_type": "code",
      "source": [
        "#38. How are abstract methods different...\n",
        "\n",
        "#Abstract methods are declared without implementation using the @abstractmethod decorato"
      ],
      "metadata": {
        "id": "86kE9aAi_zEn"
      },
      "id": "86kE9aAi_zEn",
      "execution_count": 76,
      "outputs": []
    },
    {
      "cell_type": "code",
      "source": [
        "from abc import ABC, abstractmethod\n",
        "\n",
        "class Shape(ABC):\n",
        "    @abstractmethod\n",
        "    def area(self):\n",
        "        pass"
      ],
      "metadata": {
        "id": "6VFwW_FXAe2n"
      },
      "id": "6VFwW_FXAe2n",
      "execution_count": 77,
      "outputs": []
    },
    {
      "cell_type": "code",
      "source": [
        "class Vehicle:\n",
        "    def move(self):\n",
        "        raise NotImplementedError(\"Subclasses must implement this method\")\n",
        "\n",
        "class Car(Vehicle):\n",
        "    def move(self):\n",
        "        print(\"Car is moving\")\n",
        "\n",
        "v = Car()\n",
        "v.move()"
      ],
      "metadata": {
        "id": "JIP6u--LAqOC",
        "outputId": "520b0661-ddd2-4db6-8003-9c18eda98ace",
        "colab": {
          "base_uri": "https://localhost:8080/"
        }
      },
      "id": "JIP6u--LAqOC",
      "execution_count": 78,
      "outputs": [
        {
          "output_type": "stream",
          "name": "stdout",
          "text": [
            "Car is moving\n"
          ]
        }
      ]
    },
    {
      "cell_type": "code",
      "source": [
        "#41. How does Python achieve polymorphism...\n",
        "\n",
        "#Through method overriding and duck typing."
      ],
      "metadata": {
        "id": "wcdRW602BKqh"
      },
      "id": "wcdRW602BKqh",
      "execution_count": 79,
      "outputs": []
    },
    {
      "cell_type": "code",
      "source": [
        "class Base:\n",
        "    def greet(self):\n",
        "        print(\"Hello from Base\")\n",
        "\n",
        "class Derived(Base):\n",
        "    def greet(self):\n",
        "        print(\"Hello from Derived\")"
      ],
      "metadata": {
        "id": "TIwmD3cABfmY"
      },
      "id": "TIwmD3cABfmY",
      "execution_count": 80,
      "outputs": []
    },
    {
      "cell_type": "code",
      "source": [
        "class Base:\n",
        "    def greet(self):\n",
        "        print(\"Hello from Base\")\n",
        "\n",
        "class Sub1(Base):\n",
        "    def greet(self):\n",
        "        print(\"Hello from Sub1\")\n",
        "\n",
        "class Sub2(Base):\n",
        "    def greet(self):\n",
        "        print(\"Hello from Sub2\")"
      ],
      "metadata": {
        "id": "x62LCOCGBm0_"
      },
      "id": "x62LCOCGBm0_",
      "execution_count": 81,
      "outputs": []
    },
    {
      "cell_type": "code",
      "source": [
        "#44. How does polymorphism improve...\n",
        "\n",
        "#It simplifies code by allowing different classes to use the same interface."
      ],
      "metadata": {
        "id": "Ym2ncgRqBufH"
      },
      "id": "Ym2ncgRqBufH",
      "execution_count": 83,
      "outputs": []
    },
    {
      "cell_type": "code",
      "source": [
        "#45. Describe how Python supports...\n",
        "\n",
        "#Python supports duck typing: If an object behaves like a type, it is treated as that type."
      ],
      "metadata": {
        "id": "32VQPBRuDaR3"
      },
      "id": "32VQPBRuDaR3",
      "execution_count": 84,
      "outputs": []
    },
    {
      "cell_type": "code",
      "source": [
        "#46. How do you achieve encapsulation...\n",
        "\n",
        "#By using private attributes () and getter/setter methods."
      ],
      "metadata": {
        "id": "glGNtdCRDhk4"
      },
      "id": "glGNtdCRDhk4",
      "execution_count": 85,
      "outputs": []
    },
    {
      "cell_type": "code",
      "source": [
        "#47. Can encapsulation be bypassed...\n",
        "\n",
        "#Yes, by accessing the private attribute using ClassName_attribute."
      ],
      "metadata": {
        "id": "7SRR-CWfDqMv"
      },
      "id": "7SRR-CWfDqMv",
      "execution_count": 86,
      "outputs": []
    },
    {
      "cell_type": "code",
      "source": [
        "class BankAccount:\n",
        "    def _init_(self):\n",
        "        self.__balance = 0\n",
        "\n",
        "    def deposit(self, amount):\n",
        "        self.__balance += amount\n",
        "\n",
        "    def withdraw(self, amount):\n",
        "        if amount <= self.__balance:\n",
        "            self.__balance -= amount\n",
        "        else:\n",
        "            print(\"Insufficient funds\")\n",
        "\n",
        "    def check_balance(self):\n",
        "        return self.__balance"
      ],
      "metadata": {
        "id": "rtjFX9X3D1KH"
      },
      "id": "rtjFX9X3D1KH",
      "execution_count": 87,
      "outputs": []
    },
    {
      "cell_type": "code",
      "source": [
        "class Person:\n",
        "    def _init_(self, name, email):\n",
        "        self.__name = name\n",
        "        self.__email = email\n",
        "\n",
        "    def get_email(self):\n",
        "        return self.__email\n",
        "\n",
        "    def set_email(self, email):\n",
        "        self.__email = email"
      ],
      "metadata": {
        "id": "IEmCrImtEdD5"
      },
      "id": "IEmCrImtEdD5",
      "execution_count": 88,
      "outputs": []
    },
    {
      "cell_type": "code",
      "source": [
        "#50. Why is encapsulation...\n",
        "\n",
        "#Encapsulation hides internal implementation, improving security and modularity"
      ],
      "metadata": {
        "id": "SmkHUKHCEk24"
      },
      "id": "SmkHUKHCEk24",
      "execution_count": 89,
      "outputs": []
    },
    {
      "cell_type": "code",
      "source": [
        "def decorator(func):\n",
        "    def wrapper(*args, **kwargs):\n",
        "        print(\"Before execution\")\n",
        "        result = func(*args, **kwargs)\n",
        "        print(\"After execution\")\n",
        "        return result\n",
        "    return wrapper"
      ],
      "metadata": {
        "id": "RBNg9tm2E4FA"
      },
      "id": "RBNg9tm2E4FA",
      "execution_count": 90,
      "outputs": []
    },
    {
      "cell_type": "code",
      "source": [
        "def decorator(func):\n",
        "    def wrapper(*args, **kwargs):\n",
        "        print(f\"Function {func._name_} is being executed\")\n",
        "        return func(*args, **kwargs)\n",
        "    return wrapper"
      ],
      "metadata": {
        "id": "76FqGcOoFAJw"
      },
      "id": "76FqGcOoFAJw",
      "execution_count": 91,
      "outputs": []
    },
    {
      "cell_type": "code",
      "source": [
        "def dec1(func):\n",
        "    def wrapper():\n",
        "        print(\"Dec1\")\n",
        "        func()\n",
        "    return wrapper\n",
        "\n",
        "def dec2(func):\n",
        "    def wrapper():\n",
        "        print(\"Dec2\")\n",
        "        func()\n",
        "    return wrapper\n",
        "\n",
        "@dec1\n",
        "@dec2\n",
        "def say_hello():\n",
        "    print(\"Hello\")"
      ],
      "metadata": {
        "id": "rEHGWc82FPov"
      },
      "id": "rEHGWc82FPov",
      "execution_count": 92,
      "outputs": []
    },
    {
      "cell_type": "code",
      "source": [
        "def decorator(func):\n",
        "    def wrapper(*args, **kwargs):\n",
        "        print(\"Arguments:\", args, kwargs)\n",
        "        return func(*args, **kwargs)\n",
        "    return wrapper"
      ],
      "metadata": {
        "id": "jZR-ZtRsFdhz"
      },
      "id": "jZR-ZtRsFdhz",
      "execution_count": 93,
      "outputs": []
    },
    {
      "cell_type": "code",
      "source": [
        "#55. Create a decorator that preserves...\n",
        "\n",
        "#Use functools.wraps."
      ],
      "metadata": {
        "id": "ZJI239bMFvpH"
      },
      "id": "ZJI239bMFvpH",
      "execution_count": 94,
      "outputs": []
    },
    {
      "cell_type": "code",
      "source": [
        "class Calculator:\n",
        "    @staticmethod\n",
        "    def add(a, b):\n",
        "        return a + b"
      ],
      "metadata": {
        "id": "8Y2AWgZhF_aC"
      },
      "id": "8Y2AWgZhF_aC",
      "execution_count": 95,
      "outputs": []
    },
    {
      "cell_type": "code",
      "source": [
        "class Employee:\n",
        "    employee_count = 0\n",
        "\n",
        "    def _init_(self):\n",
        "        Employee.employee_count += 1\n",
        "\n",
        "    @classmethod\n",
        "    def get_employee_count(cls):\n",
        "        return cls.employee_count"
      ],
      "metadata": {
        "id": "o3N7HSZQGHzH"
      },
      "id": "o3N7HSZQGHzH",
      "execution_count": 96,
      "outputs": []
    },
    {
      "cell_type": "code",
      "source": [
        "class StringFormatter:\n",
        "    @staticmethod\n",
        "    def reverse_string(s):\n",
        "        return s[::-1]"
      ],
      "metadata": {
        "id": "7LObjdWsGNr0"
      },
      "id": "7LObjdWsGNr0",
      "execution_count": 97,
      "outputs": []
    },
    {
      "cell_type": "code",
      "source": [
        "class Circle:\n",
        "    @staticmethod\n",
        "    def calculate_area(radius):\n",
        "        return 3.14 * radius * radius"
      ],
      "metadata": {
        "id": "yZDJ4ERqGZFU"
      },
      "id": "yZDJ4ERqGZFU",
      "execution_count": 98,
      "outputs": []
    },
    {
      "cell_type": "code",
      "source": [
        "\n",
        "class TemperatureConverter:\n",
        "    @staticmethod\n",
        "    def celsius_to_fahrenheit(celsius):\n",
        "        return (celsius * 9/5) + 32"
      ],
      "metadata": {
        "id": "JUaGStR-GjjA"
      },
      "id": "JUaGStR-GjjA",
      "execution_count": 99,
      "outputs": []
    },
    {
      "cell_type": "code",
      "source": [
        "61-64: Special methods in Python (_str, __len_, etc.).\n",
        "\n",
        "_str_: String representation.\n",
        "\n",
        "_len_: Return length.\n",
        "\n",
        "_add_: Overload the + operator."
      ],
      "metadata": {
        "id": "A4r97-DxHAag"
      },
      "id": "A4r97-DxHAag",
      "execution_count": null,
      "outputs": []
    }
  ],
  "metadata": {
    "kernelspec": {
      "display_name": "Python 3",
      "name": "python3"
    },
    "language_info": {
      "name": "python"
    },
    "required_libs": [],
    "colab": {
      "provenance": [],
      "include_colab_link": true
    }
  },
  "nbformat": 4,
  "nbformat_minor": 5
}