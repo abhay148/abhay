{
  "cells": [
    {
      "cell_type": "markdown",
      "metadata": {
        "id": "view-in-github",
        "colab_type": "text"
      },
      "source": [
        "<a href=\"https://colab.research.google.com/github/abhay148/abhay/blob/main/chapter_appendix-tools-for-deep-learning/jupyter.ipynb\" target=\"_parent\"><img src=\"https://colab.research.google.com/assets/colab-badge.svg\" alt=\"Open In Colab\"/></a>"
      ]
    },
    {
      "cell_type": "code",
      "source": [
        "#reverse a string"
      ],
      "metadata": {
        "id": "sZF7llB7EAjN"
      },
      "id": "sZF7llB7EAjN",
      "execution_count": 1,
      "outputs": []
    },
    {
      "cell_type": "code",
      "source": [
        "def reverse_string(s):\n",
        "    return s[::-1]\n",
        "print(reverse_string(\"hello i am jay mahyavanshi\"))"
      ],
      "metadata": {
        "colab": {
          "base_uri": "https://localhost:8080/"
        },
        "id": "PgQJlcWQELh_",
        "outputId": "dbe3f531-7687-4929-83ab-14ea3d697aee"
      },
      "id": "PgQJlcWQELh_",
      "execution_count": 8,
      "outputs": [
        {
          "output_type": "stream",
          "name": "stdout",
          "text": [
            "ihsnavayham yaj ma i olleh\n"
          ]
        }
      ]
    },
    {
      "cell_type": "code",
      "source": [
        "#count the number of vowels in a string"
      ],
      "metadata": {
        "id": "nDcWA1dTF97N"
      },
      "id": "nDcWA1dTF97N",
      "execution_count": null,
      "outputs": []
    },
    {
      "cell_type": "code",
      "source": [
        "def count_vowels(s):\n",
        "  vowels = \"aeiouAEIOU\"\n",
        "  return sum(1 for char in s if char in vowels)\n",
        "print(count_vowels(\"hello i am jay mahyavanshi\"))"
      ],
      "metadata": {
        "colab": {
          "base_uri": "https://localhost:8080/"
        },
        "id": "85zUZn3NEisi",
        "outputId": "d3b37ca0-d3cb-4d7e-b14c-ead479c4cd89"
      },
      "id": "85zUZn3NEisi",
      "execution_count": 14,
      "outputs": [
        {
          "output_type": "stream",
          "name": "stdout",
          "text": [
            "9\n"
          ]
        }
      ]
    },
    {
      "cell_type": "code",
      "source": [
        "#checkin if a string is a palindrome"
      ],
      "metadata": {
        "id": "hYzoxKiBFt7Q"
      },
      "id": "hYzoxKiBFt7Q",
      "execution_count": 15,
      "outputs": []
    },
    {
      "cell_type": "code",
      "source": [
        "def is_palindrome(s):\n",
        "  return s == s[::-1]\n",
        "print(is_palindrome(\"hello i am jay mahyavanshi\"))"
      ],
      "metadata": {
        "colab": {
          "base_uri": "https://localhost:8080/"
        },
        "id": "hKP4yPXUGSNE",
        "outputId": "bb0378c7-eb4b-48ef-c71d-c8bcfd3b8894"
      },
      "id": "hKP4yPXUGSNE",
      "execution_count": 17,
      "outputs": [
        {
          "output_type": "stream",
          "name": "stdout",
          "text": [
            "False\n"
          ]
        }
      ]
    },
    {
      "cell_type": "code",
      "source": [
        "#check if two strings are anagrams"
      ],
      "metadata": {
        "id": "mEZ83SwZGvff"
      },
      "id": "mEZ83SwZGvff",
      "execution_count": 18,
      "outputs": []
    },
    {
      "cell_type": "code",
      "source": [
        "def are_anagrams(s1, s2):\n",
        "  return sorted(s1) == sorted(s2)\n",
        "print(are_anagrams(\"jay\", \"vijay\"))"
      ],
      "metadata": {
        "colab": {
          "base_uri": "https://localhost:8080/"
        },
        "id": "B6tWZj9OG-AG",
        "outputId": "69b7dc31-f815-4ac2-9414-082fefc88f2f"
      },
      "id": "B6tWZj9OG-AG",
      "execution_count": 20,
      "outputs": [
        {
          "output_type": "stream",
          "name": "stdout",
          "text": [
            "False\n"
          ]
        }
      ]
    },
    {
      "cell_type": "code",
      "source": [
        "#find all occurrences of a substing"
      ],
      "metadata": {
        "id": "3QLS90JRHmq0"
      },
      "id": "3QLS90JRHmq0",
      "execution_count": 21,
      "outputs": []
    },
    {
      "source": [
        "def find_occurrences(s, sub):\n",
        "  return [i for i in range(len(s)) if s.startswith(sub, i)]\n",
        "print(find_occurrences(\"banana\", \"ana\")) #Fixed: Indentation corrected to match the function definition"
      ],
      "cell_type": "code",
      "metadata": {
        "colab": {
          "base_uri": "https://localhost:8080/"
        },
        "id": "N19S2J5gK4O1",
        "outputId": "27f9a2c0-aa06-4873-9eca-ffff6388a348"
      },
      "id": "N19S2J5gK4O1",
      "execution_count": 28,
      "outputs": [
        {
          "output_type": "stream",
          "name": "stdout",
          "text": [
            "[1, 3]\n"
          ]
        }
      ]
    },
    {
      "cell_type": "code",
      "source": [
        "def string_compression(s):\n",
        "    compressed = []\n",
        "    count = 1\n",
        "    for i in range(1, len(s)):\n",
        "        if s[i] == s[i-1]:\n",
        "            count += 1\n",
        "        else:\n",
        "            compressed.append(s[i-1] + str(count))\n",
        "            count = 1\n",
        "    compressed.append(s[-1] + str(count))\n",
        "    return ''.join(compressed)\n",
        "print(string_compression(\"aaabbcc\"))"
      ],
      "metadata": {
        "colab": {
          "base_uri": "https://localhost:8080/"
        },
        "id": "TID0UBOQKBfD",
        "outputId": "b61bcfef-c1d0-4dfb-b742-ddf5ebfafcfc"
      },
      "id": "TID0UBOQKBfD",
      "execution_count": 29,
      "outputs": [
        {
          "output_type": "stream",
          "name": "stdout",
          "text": [
            "a3b2c2\n"
          ]
        }
      ]
    },
    {
      "cell_type": "code",
      "source": [
        "def has_unique_chars(s):\n",
        "    return len(s) == len(set(s))\n",
        "print(has_unique_chars(\"hello i am jay \"))"
      ],
      "metadata": {
        "colab": {
          "base_uri": "https://localhost:8080/"
        },
        "id": "7ck2Gn7mMON4",
        "outputId": "cc604e1c-aefa-4968-d8e2-21a308ef8af9"
      },
      "id": "7ck2Gn7mMON4",
      "execution_count": 31,
      "outputs": [
        {
          "output_type": "stream",
          "name": "stdout",
          "text": [
            "False\n"
          ]
        }
      ]
    },
    {
      "cell_type": "code",
      "source": [
        "def convert_case(s, to_upper=True):\n",
        "    return s.upper() if to_upper else s.lower()\n",
        "print(convert_case(\"jay\", to_upper=False))"
      ],
      "metadata": {
        "colab": {
          "base_uri": "https://localhost:8080/"
        },
        "id": "auE55OJNMk5N",
        "outputId": "bc996686-9ad7-4ed1-8254-c84a793454d2"
      },
      "id": "auE55OJNMk5N",
      "execution_count": 33,
      "outputs": [
        {
          "output_type": "stream",
          "name": "stdout",
          "text": [
            "jay\n"
          ]
        }
      ]
    },
    {
      "cell_type": "code",
      "source": [
        "def count_words(s):\n",
        "    return len(s.split())\n",
        "print(count_words(\"mahyavanshi!\"))"
      ],
      "metadata": {
        "colab": {
          "base_uri": "https://localhost:8080/"
        },
        "id": "kmudqjTSMkt9",
        "outputId": "828f5387-ea9e-4b51-b3e7-6712d5735a28"
      },
      "id": "kmudqjTSMkt9",
      "execution_count": 35,
      "outputs": [
        {
          "output_type": "stream",
          "name": "stdout",
          "text": [
            "1\n"
          ]
        }
      ]
    },
    {
      "cell_type": "code",
      "source": [
        "def concatenate_strings(s1, s2):\n",
        "    return f\"{s1}{s2}\"\n",
        "print(concatenate_strings(\"jay\", \"mahayvanshi\"))"
      ],
      "metadata": {
        "colab": {
          "base_uri": "https://localhost:8080/"
        },
        "id": "vl5Yj3i7MNs5",
        "outputId": "1db9b8de-1d96-41ce-a8ca-ed81e9db2070"
      },
      "id": "vl5Yj3i7MNs5",
      "execution_count": 36,
      "outputs": [
        {
          "output_type": "stream",
          "name": "stdout",
          "text": [
            "jaymahayvanshi\n"
          ]
        }
      ]
    },
    {
      "cell_type": "code",
      "source": [
        "def remove_element(lst, element):\n",
        "    return [x for x in lst if x != element]\n",
        "print(remove_element([1, 2, 3, 2, 4], 2))"
      ],
      "metadata": {
        "colab": {
          "base_uri": "https://localhost:8080/"
        },
        "id": "rGv8aZyiNa38",
        "outputId": "1d67b974-221a-4176-87a3-faf541ce33d3"
      },
      "id": "rGv8aZyiNa38",
      "execution_count": 37,
      "outputs": [
        {
          "output_type": "stream",
          "name": "stdout",
          "text": [
            "[1, 3, 4]\n"
          ]
        }
      ]
    },
    {
      "cell_type": "code",
      "source": [
        "def second_largest(lst):\n",
        "    unique_sorted = sorted(set(lst), reverse=True)\n",
        "    return unique_sorted[1] if len(unique_sorted) > 1 else None\n",
        "print(second_largest([4, 2, 1, 3]))"
      ],
      "metadata": {
        "colab": {
          "base_uri": "https://localhost:8080/"
        },
        "id": "-TFhCceKNash",
        "outputId": "8aad98c2-e2b4-41c3-a4d8-493e9fe65522"
      },
      "id": "-TFhCceKNash",
      "execution_count": 38,
      "outputs": [
        {
          "output_type": "stream",
          "name": "stdout",
          "text": [
            "3\n"
          ]
        }
      ]
    },
    {
      "cell_type": "code",
      "source": [
        "def count_occurrences(lst):\n",
        "    from collections import Counter\n",
        "    return dict(Counter(lst))\n",
        "print(count_occurrences([1, 2, 1, 3, 2, 2]))"
      ],
      "metadata": {
        "colab": {
          "base_uri": "https://localhost:8080/"
        },
        "id": "NUqDN5dMNaak",
        "outputId": "2d3a41d1-5faf-409a-8568-d11c07c9e0c0"
      },
      "id": "NUqDN5dMNaak",
      "execution_count": 39,
      "outputs": [
        {
          "output_type": "stream",
          "name": "stdout",
          "text": [
            "{1: 2, 2: 3, 3: 1}\n"
          ]
        }
      ]
    },
    {
      "cell_type": "code",
      "source": [
        "def reverse_list(lst):\n",
        "    for i in range(len(lst) // 2):\n",
        "        lst[i], lst[-i-1] = lst[-i-1], lst[i]\n",
        "    return lst\n",
        "print(reverse_list([1, 2, 3, 4]))"
      ],
      "metadata": {
        "colab": {
          "base_uri": "https://localhost:8080/"
        },
        "id": "VV5OOabrOI7J",
        "outputId": "9173fde2-0e58-4e61-b0de-10419ca57ef9"
      },
      "id": "VV5OOabrOI7J",
      "execution_count": 40,
      "outputs": [
        {
          "output_type": "stream",
          "name": "stdout",
          "text": [
            "[4, 3, 2, 1]\n"
          ]
        }
      ]
    },
    {
      "cell_type": "code",
      "source": [
        "def remove_duplicates(lst):\n",
        "    seen = set()\n",
        "    return [x for x in lst if not (x in seen or seen.add(x))]\n",
        "print(remove_duplicates([1, 2, 2, 3, 4, 3]))"
      ],
      "metadata": {
        "colab": {
          "base_uri": "https://localhost:8080/"
        },
        "id": "_V0GsxeqOSkU",
        "outputId": "ac825713-fdc7-48e5-9fca-21c7f484e059"
      },
      "id": "_V0GsxeqOSkU",
      "execution_count": 41,
      "outputs": [
        {
          "output_type": "stream",
          "name": "stdout",
          "text": [
            "[1, 2, 3, 4]\n"
          ]
        }
      ]
    },
    {
      "cell_type": "code",
      "source": [
        "def is_sorted(lst):\n",
        "    return lst == sorted(lst) or lst == sorted(lst, reverse=True)\n",
        "print(is_sorted([1, 2, 3]))\n",
        "print(is_sorted([3, 2, 1]))\n",
        "print(is_sorted([1, 3, 2]))"
      ],
      "metadata": {
        "colab": {
          "base_uri": "https://localhost:8080/"
        },
        "id": "qbV22DGCOSRW",
        "outputId": "c9d8a7ce-8ade-4c04-f0ae-b31710c98ae4"
      },
      "id": "qbV22DGCOSRW",
      "execution_count": 42,
      "outputs": [
        {
          "output_type": "stream",
          "name": "stdout",
          "text": [
            "True\n",
            "True\n",
            "False\n"
          ]
        }
      ]
    },
    {
      "cell_type": "code",
      "source": [
        "def merge_sorted_lists(lst1, lst2):\n",
        "    return sorted(lst1 + lst2)\n",
        "print(merge_sorted_lists([1, 3, 5], [2, 4, 6]))"
      ],
      "metadata": {
        "colab": {
          "base_uri": "https://localhost:8080/"
        },
        "id": "w8iuBOPoOSH3",
        "outputId": "79dc6ea9-ae60-42b4-c6e1-a369c48986be"
      },
      "id": "w8iuBOPoOSH3",
      "execution_count": 43,
      "outputs": [
        {
          "output_type": "stream",
          "name": "stdout",
          "text": [
            "[1, 2, 3, 4, 5, 6]\n"
          ]
        }
      ]
    },
    {
      "cell_type": "code",
      "source": [
        "def merge_sorted_lists(lst1, lst2):\n",
        "    return sorted(lst1 + lst2)\n",
        "print(merge_sorted_lists([1, 3, 5], [2, 4, 6]))"
      ],
      "metadata": {
        "colab": {
          "base_uri": "https://localhost:8080/"
        },
        "id": "5OG7koraOR_Q",
        "outputId": "276a7b43-d739-4738-caf8-a4a6df87b3a1"
      },
      "id": "5OG7koraOR_Q",
      "execution_count": 44,
      "outputs": [
        {
          "output_type": "stream",
          "name": "stdout",
          "text": [
            "[1, 2, 3, 4, 5, 6]\n"
          ]
        }
      ]
    },
    {
      "cell_type": "code",
      "source": [
        "def intersection(lst1, lst2):\n",
        "    return list(set(lst1) & set(lst2))\n",
        "print(intersection([1, 2, 3], [2, 3, 4]))"
      ],
      "metadata": {
        "colab": {
          "base_uri": "https://localhost:8080/"
        },
        "id": "3zg0NLSqORkd",
        "outputId": "ef11afb0-8dcc-41a1-9ef5-79ace6835cd8"
      },
      "id": "3zg0NLSqORkd",
      "execution_count": 45,
      "outputs": [
        {
          "output_type": "stream",
          "name": "stdout",
          "text": [
            "[2, 3]\n"
          ]
        }
      ]
    },
    {
      "cell_type": "code",
      "source": [
        "def union(lst1, lst2):\n",
        "    return list(set(lst1) | set(lst2))\n",
        "print(union([1, 2, 3], [2, 3, 4]))"
      ],
      "metadata": {
        "colab": {
          "base_uri": "https://localhost:8080/"
        },
        "id": "erng9PLYORal",
        "outputId": "9558c900-26a1-452e-f9c1-7063fb469c97"
      },
      "id": "erng9PLYORal",
      "execution_count": 46,
      "outputs": [
        {
          "output_type": "stream",
          "name": "stdout",
          "text": [
            "[1, 2, 3, 4]\n"
          ]
        }
      ]
    },
    {
      "cell_type": "code",
      "source": [
        "import random\n",
        "def shuffle_list(lst):\n",
        "    random.shuffle(lst)\n",
        "    return lst\n",
        "print(shuffle_list([1, 2, 3, 4]))"
      ],
      "metadata": {
        "colab": {
          "base_uri": "https://localhost:8080/"
        },
        "id": "dm9QFWILORR1",
        "outputId": "e14f8ea7-c3e4-46f5-e5fd-103a3a850c50"
      },
      "id": "dm9QFWILORR1",
      "execution_count": 47,
      "outputs": [
        {
          "output_type": "stream",
          "name": "stdout",
          "text": [
            "[2, 1, 4, 3]\n"
          ]
        }
      ]
    },
    {
      "cell_type": "code",
      "source": [
        "def common_elements(t1, t2):\n",
        "    return tuple(set(t1) & set(t2))\n",
        "print(common_elements((1, 2, 3), (2, 3, 4)))"
      ],
      "metadata": {
        "colab": {
          "base_uri": "https://localhost:8080/"
        },
        "id": "jwQhaBnRORIY",
        "outputId": "33aecfac-9d7d-4751-eb07-36f5f89db8ad"
      },
      "id": "jwQhaBnRORIY",
      "execution_count": 48,
      "outputs": [
        {
          "output_type": "stream",
          "name": "stdout",
          "text": [
            "(2, 3)\n"
          ]
        }
      ]
    },
    {
      "cell_type": "code",
      "source": [
        "def set_intersection():\n",
        "    set1 = set(map(int, input(\"Enter set 1 (comma-separated): \").split(',')))\n",
        "    set2 = set(map(int, input(\"Enter set 2 (comma-separated): \").split(',')))\n",
        "    return set1 & set2\n",
        "print(set_intersection())"
      ],
      "metadata": {
        "id": "kwBHL3LVOQ99"
      },
      "id": "kwBHL3LVOQ99",
      "execution_count": null,
      "outputs": []
    },
    {
      "cell_type": "code",
      "source": [
        "def concatenate_tuples(t1, t2):\n",
        "    return t1 + t2\n",
        "print(concatenate_tuples((1, 2), (3, 4)))"
      ],
      "metadata": {
        "id": "ktzkYOW-OQy0"
      },
      "id": "ktzkYOW-OQy0",
      "execution_count": null,
      "outputs": []
    },
    {
      "cell_type": "code",
      "source": [
        "def difference_between_sets():\n",
        "    set1 = set(input(\"Enter set 1 (comma-separated): \").split(','))\n",
        "    set2 = set(input(\"Enter set 2 (comma-separated): \").split(','))\n",
        "    return set1 - set2\n",
        "print(difference_between_sets())"
      ],
      "metadata": {
        "id": "quV-gXCNQ_4B"
      },
      "id": "quV-gXCNQ_4B",
      "execution_count": null,
      "outputs": []
    },
    {
      "cell_type": "code",
      "source": [
        "def extract_elements(t, start, end):\n",
        "    return t[start:end]\n",
        "print(extract_elements((1, 2, 3, 4, 5), 1, 4))"
      ],
      "metadata": {
        "id": "85tL6rnsQ_ie"
      },
      "id": "85tL6rnsQ_ie",
      "execution_count": null,
      "outputs": []
    },
    {
      "cell_type": "code",
      "source": [],
      "metadata": {
        "id": "0uQxgo3rOQpD"
      },
      "id": "0uQxgo3rOQpD",
      "execution_count": null,
      "outputs": []
    },
    {
      "cell_type": "markdown",
      "source": [],
      "metadata": {
        "id": "wt6f3VEASLsp"
      },
      "id": "wt6f3VEASLsp"
    },
    {
      "cell_type": "code",
      "source": [
        "def union_of_characters():\n",
        "    set1 = set(input(\"Enter characters for set 1: \"))\n",
        "    set2 = set(input(\"Enter characters for set 2: \"))\n",
        "    return set1 | set2\n",
        "print(union_of_characters())"
      ],
      "metadata": {
        "id": "ST4LGQR3OQgq"
      },
      "id": "ST4LGQR3OQgq",
      "execution_count": null,
      "outputs": []
    },
    {
      "cell_type": "code",
      "source": [
        "def max_min_tuple(t):\n",
        "    return max(t), min(t)\n",
        "print(max_min_tuple((1, 2, 3, 4)))"
      ],
      "metadata": {
        "id": "ez5FBC5WOQYE"
      },
      "id": "ez5FBC5WOQYE",
      "execution_count": null,
      "outputs": []
    },
    {
      "cell_type": "code",
      "source": [
        "def set_operations():\n",
        "    set1 = set(map(int, input(\"Enter set 1: \").split(',')))\n",
        "    set2 = set(map(int, input(\"Enter set 2: \").split(',')))\n",
        "    return {\n",
        "        \"union\": set1 | set2,\n",
        "        \"intersection\": set1 & set2,\n",
        "        \"difference\": set1 - set2,\n",
        "    }\n",
        "print(set_operations())"
      ],
      "metadata": {
        "id": "L_MrQ_g9OQNX"
      },
      "id": "L_MrQ_g9OQNX",
      "execution_count": null,
      "outputs": []
    },
    {
      "cell_type": "code",
      "source": [
        "def count_occurrences(t, elem):\n",
        "    return t.count(elem)\n",
        "\n",
        "# Example usage\n",
        "t = (1, 2, 3, 4, 3, 3, 5)\n",
        "print(count_occurrences(t, 3))"
      ],
      "metadata": {
        "id": "y2d854zWOQEr"
      },
      "id": "y2d854zWOQEr",
      "execution_count": null,
      "outputs": []
    },
    {
      "cell_type": "code",
      "source": [],
      "metadata": {
        "id": "VLOxKG48OP7N"
      },
      "id": "VLOxKG48OP7N",
      "execution_count": null,
      "outputs": []
    },
    {
      "cell_type": "code",
      "source": [],
      "metadata": {
        "id": "tnyhpDHFOPy0"
      },
      "id": "tnyhpDHFOPy0",
      "execution_count": null,
      "outputs": []
    },
    {
      "cell_type": "code",
      "source": [],
      "metadata": {
        "id": "KLbxCG9LOPoA"
      },
      "id": "KLbxCG9LOPoA",
      "execution_count": null,
      "outputs": []
    },
    {
      "cell_type": "code",
      "source": [],
      "metadata": {
        "id": "08BBC-SHOPdN"
      },
      "id": "08BBC-SHOPdN",
      "execution_count": null,
      "outputs": []
    },
    {
      "cell_type": "code",
      "source": [],
      "metadata": {
        "id": "WoWNofvjOPSd"
      },
      "id": "WoWNofvjOPSd",
      "execution_count": null,
      "outputs": []
    },
    {
      "cell_type": "markdown",
      "source": [],
      "metadata": {
        "id": "_fQ7hxWpLiem"
      },
      "id": "_fQ7hxWpLiem"
    }
  ],
  "metadata": {
    "kernelspec": {
      "display_name": "Python 3",
      "name": "python3"
    },
    "language_info": {
      "name": "python"
    },
    "required_libs": [],
    "colab": {
      "provenance": [],
      "include_colab_link": true
    }
  },
  "nbformat": 4,
  "nbformat_minor": 5
}