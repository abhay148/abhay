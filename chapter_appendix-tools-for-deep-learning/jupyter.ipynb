{
  "cells": [
    {
      "cell_type": "code",
      "source": [
        "#reverse a string"
      ],
      "metadata": {
        "id": "sZF7llB7EAjN"
      },
      "id": "sZF7llB7EAjN",
      "execution_count": null,
      "outputs": []
    },
    {
      "cell_type": "code",
      "source": [
        "def reverse_string(s):\n",
        "    return s[::-1]\n",
        "print(reverse_string(\"hello i am jay mahyavanshi\"))"
      ],
      "metadata": {
        "colab": {
          "base_uri": "https://localhost:8080/"
        },
        "id": "PgQJlcWQELh_",
        "outputId": "dbe3f531-7687-4929-83ab-14ea3d697aee"
      },
      "id": "PgQJlcWQELh_",
      "execution_count": null,
      "outputs": [
        {
          "output_type": "stream",
          "name": "stdout",
          "text": [
            "ihsnavayham yaj ma i olleh\n"
          ]
        }
      ]
    },
    {
      "cell_type": "code",
      "source": [
        "#count the number of vowels in a string"
      ],
      "metadata": {
        "id": "nDcWA1dTF97N"
      },
      "id": "nDcWA1dTF97N",
      "execution_count": null,
      "outputs": []
    },
    {
      "cell_type": "code",
      "source": [
        "def count_vowels(s):\n",
        "  vowels = \"aeiouAEIOU\"\n",
        "  return sum(1 for char in s if char in vowels)\n",
        "print(count_vowels(\"hello i am jay mahyavanshi\"))"
      ],
      "metadata": {
        "colab": {
          "base_uri": "https://localhost:8080/"
        },
        "id": "85zUZn3NEisi",
        "outputId": "d3b37ca0-d3cb-4d7e-b14c-ead479c4cd89"
      },
      "id": "85zUZn3NEisi",
      "execution_count": null,
      "outputs": [
        {
          "output_type": "stream",
          "name": "stdout",
          "text": [
            "9\n"
          ]
        }
      ]
    },
    {
      "cell_type": "code",
      "source": [
        "#checkin if a string is a palindrome"
      ],
      "metadata": {
        "id": "hYzoxKiBFt7Q"
      },
      "id": "hYzoxKiBFt7Q",
      "execution_count": null,
      "outputs": []
    },
    {
      "cell_type": "code",
      "source": [
        "def is_palindrome(s):\n",
        "  return s == s[::-1]\n",
        "print(is_palindrome(\"hello i am jay mahyavanshi\"))"
      ],
      "metadata": {
        "colab": {
          "base_uri": "https://localhost:8080/"
        },
        "id": "hKP4yPXUGSNE",
        "outputId": "bb0378c7-eb4b-48ef-c71d-c8bcfd3b8894"
      },
      "id": "hKP4yPXUGSNE",
      "execution_count": null,
      "outputs": [
        {
          "output_type": "stream",
          "name": "stdout",
          "text": [
            "False\n"
          ]
        }
      ]
    },
    {
      "cell_type": "code",
      "source": [
        "#check if two strings are anagrams"
      ],
      "metadata": {
        "id": "mEZ83SwZGvff"
      },
      "id": "mEZ83SwZGvff",
      "execution_count": null,
      "outputs": []
    },
    {
      "cell_type": "code",
      "source": [
        "def are_anagrams(s1, s2):\n",
        "  return sorted(s1) == sorted(s2)\n",
        "print(are_anagrams(\"jay\", \"vijay\"))"
      ],
      "metadata": {
        "colab": {
          "base_uri": "https://localhost:8080/"
        },
        "id": "B6tWZj9OG-AG",
        "outputId": "69b7dc31-f815-4ac2-9414-082fefc88f2f"
      },
      "id": "B6tWZj9OG-AG",
      "execution_count": null,
      "outputs": [
        {
          "output_type": "stream",
          "name": "stdout",
          "text": [
            "False\n"
          ]
        }
      ]
    },
    {
      "cell_type": "code",
      "source": [
        "#find all occurrences of a substing"
      ],
      "metadata": {
        "id": "3QLS90JRHmq0"
      },
      "id": "3QLS90JRHmq0",
      "execution_count": null,
      "outputs": []
    },
    {
      "source": [
        "def find_occurrences(s, sub):\n",
        "  return [i for i in range(len(s)) if s.startswith(sub, i)]\n",
        "print(find_occurrences(\"banana\", \"ana\")) #Fixed: Indentation corrected to match the function definition"
      ],
      "cell_type": "code",
      "metadata": {
        "colab": {
          "base_uri": "https://localhost:8080/"
        },
        "id": "N19S2J5gK4O1",
        "outputId": "27f9a2c0-aa06-4873-9eca-ffff6388a348"
      },
      "id": "N19S2J5gK4O1",
      "execution_count": null,
      "outputs": [
        {
          "output_type": "stream",
          "name": "stdout",
          "text": [
            "[1, 3]\n"
          ]
        }
      ]
    },
    {
      "cell_type": "code",
      "source": [
        "def string_compression(s):\n",
        "    compressed = []\n",
        "    count = 1\n",
        "    for i in range(1, len(s)):\n",
        "        if s[i] == s[i-1]:\n",
        "            count += 1\n",
        "        else:\n",
        "            compressed.append(s[i-1] + str(count))\n",
        "            count = 1\n",
        "    compressed.append(s[-1] + str(count))\n",
        "    return ''.join(compressed)\n",
        "print(string_compression(\"aaabbcc\"))"
      ],
      "metadata": {
        "colab": {
          "base_uri": "https://localhost:8080/"
        },
        "id": "TID0UBOQKBfD",
        "outputId": "b61bcfef-c1d0-4dfb-b742-ddf5ebfafcfc"
      },
      "id": "TID0UBOQKBfD",
      "execution_count": null,
      "outputs": [
        {
          "output_type": "stream",
          "name": "stdout",
          "text": [
            "a3b2c2\n"
          ]
        }
      ]
    },
    {
      "cell_type": "code",
      "source": [
        "def has_unique_chars(s):\n",
        "    return len(s) == len(set(s))\n",
        "print(has_unique_chars(\"hello i am jay \"))"
      ],
      "metadata": {
        "colab": {
          "base_uri": "https://localhost:8080/"
        },
        "id": "7ck2Gn7mMON4",
        "outputId": "cc604e1c-aefa-4968-d8e2-21a308ef8af9"
      },
      "id": "7ck2Gn7mMON4",
      "execution_count": null,
      "outputs": [
        {
          "output_type": "stream",
          "name": "stdout",
          "text": [
            "False\n"
          ]
        }
      ]
    },
    {
      "cell_type": "code",
      "source": [
        "def convert_case(s, to_upper=True):\n",
        "    return s.upper() if to_upper else s.lower()\n",
        "print(convert_case(\"jay\", to_upper=False))"
      ],
      "metadata": {
        "colab": {
          "base_uri": "https://localhost:8080/"
        },
        "id": "auE55OJNMk5N",
        "outputId": "bc996686-9ad7-4ed1-8254-c84a793454d2"
      },
      "id": "auE55OJNMk5N",
      "execution_count": null,
      "outputs": [
        {
          "output_type": "stream",
          "name": "stdout",
          "text": [
            "jay\n"
          ]
        }
      ]
    },
    {
      "cell_type": "code",
      "source": [
        "def count_words(s):\n",
        "    return len(s.split())\n",
        "print(count_words(\"mahyavanshi!\"))"
      ],
      "metadata": {
        "colab": {
          "base_uri": "https://localhost:8080/"
        },
        "id": "kmudqjTSMkt9",
        "outputId": "828f5387-ea9e-4b51-b3e7-6712d5735a28"
      },
      "id": "kmudqjTSMkt9",
      "execution_count": null,
      "outputs": [
        {
          "output_type": "stream",
          "name": "stdout",
          "text": [
            "1\n"
          ]
        }
      ]
    },
    {
      "cell_type": "code",
      "source": [
        "def concatenate_strings(s1, s2):\n",
        "    return f\"{s1}{s2}\"\n",
        "print(concatenate_strings(\"jay\", \"mahayvanshi\"))"
      ],
      "metadata": {
        "colab": {
          "base_uri": "https://localhost:8080/"
        },
        "id": "vl5Yj3i7MNs5",
        "outputId": "1db9b8de-1d96-41ce-a8ca-ed81e9db2070"
      },
      "id": "vl5Yj3i7MNs5",
      "execution_count": null,
      "outputs": [
        {
          "output_type": "stream",
          "name": "stdout",
          "text": [
            "jaymahayvanshi\n"
          ]
        }
      ]
    },
    {
      "cell_type": "code",
      "source": [
        "def remove_element(lst, element):\n",
        "    return [x for x in lst if x != element]\n",
        "print(remove_element([1, 2, 3, 2, 4], 2))"
      ],
      "metadata": {
        "colab": {
          "base_uri": "https://localhost:8080/"
        },
        "id": "rGv8aZyiNa38",
        "outputId": "1d67b974-221a-4176-87a3-faf541ce33d3"
      },
      "id": "rGv8aZyiNa38",
      "execution_count": null,
      "outputs": [
        {
          "output_type": "stream",
          "name": "stdout",
          "text": [
            "[1, 3, 4]\n"
          ]
        }
      ]
    },
    {
      "cell_type": "code",
      "source": [
        "def second_largest(lst):\n",
        "    unique_sorted = sorted(set(lst), reverse=True)\n",
        "    return unique_sorted[1] if len(unique_sorted) > 1 else None\n",
        "print(second_largest([4, 2, 1, 3]))"
      ],
      "metadata": {
        "colab": {
          "base_uri": "https://localhost:8080/"
        },
        "id": "-TFhCceKNash",
        "outputId": "8aad98c2-e2b4-41c3-a4d8-493e9fe65522"
      },
      "id": "-TFhCceKNash",
      "execution_count": null,
      "outputs": [
        {
          "output_type": "stream",
          "name": "stdout",
          "text": [
            "3\n"
          ]
        }
      ]
    },
    {
      "cell_type": "code",
      "source": [
        "def count_occurrences(lst):\n",
        "    from collections import Counter\n",
        "    return dict(Counter(lst))\n",
        "print(count_occurrences([1, 2, 1, 3, 2, 2]))"
      ],
      "metadata": {
        "colab": {
          "base_uri": "https://localhost:8080/"
        },
        "id": "NUqDN5dMNaak",
        "outputId": "2d3a41d1-5faf-409a-8568-d11c07c9e0c0"
      },
      "id": "NUqDN5dMNaak",
      "execution_count": null,
      "outputs": [
        {
          "output_type": "stream",
          "name": "stdout",
          "text": [
            "{1: 2, 2: 3, 3: 1}\n"
          ]
        }
      ]
    },
    {
      "cell_type": "code",
      "source": [
        "def reverse_list(lst):\n",
        "    for i in range(len(lst) // 2):\n",
        "        lst[i], lst[-i-1] = lst[-i-1], lst[i]\n",
        "    return lst\n",
        "print(reverse_list([1, 2, 3, 4]))"
      ],
      "metadata": {
        "colab": {
          "base_uri": "https://localhost:8080/"
        },
        "id": "VV5OOabrOI7J",
        "outputId": "9173fde2-0e58-4e61-b0de-10419ca57ef9"
      },
      "id": "VV5OOabrOI7J",
      "execution_count": null,
      "outputs": [
        {
          "output_type": "stream",
          "name": "stdout",
          "text": [
            "[4, 3, 2, 1]\n"
          ]
        }
      ]
    },
    {
      "cell_type": "code",
      "source": [
        "def remove_duplicates(lst):\n",
        "    seen = set()\n",
        "    return [x for x in lst if not (x in seen or seen.add(x))]\n",
        "print(remove_duplicates([1, 2, 2, 3, 4, 3]))"
      ],
      "metadata": {
        "colab": {
          "base_uri": "https://localhost:8080/"
        },
        "id": "_V0GsxeqOSkU",
        "outputId": "ac825713-fdc7-48e5-9fca-21c7f484e059"
      },
      "id": "_V0GsxeqOSkU",
      "execution_count": null,
      "outputs": [
        {
          "output_type": "stream",
          "name": "stdout",
          "text": [
            "[1, 2, 3, 4]\n"
          ]
        }
      ]
    },
    {
      "cell_type": "code",
      "source": [
        "def is_sorted(lst):\n",
        "    return lst == sorted(lst) or lst == sorted(lst, reverse=True)\n",
        "print(is_sorted([1, 2, 3]))\n",
        "print(is_sorted([3, 2, 1]))\n",
        "print(is_sorted([1, 3, 2]))"
      ],
      "metadata": {
        "colab": {
          "base_uri": "https://localhost:8080/"
        },
        "id": "qbV22DGCOSRW",
        "outputId": "c9d8a7ce-8ade-4c04-f0ae-b31710c98ae4"
      },
      "id": "qbV22DGCOSRW",
      "execution_count": null,
      "outputs": [
        {
          "output_type": "stream",
          "name": "stdout",
          "text": [
            "True\n",
            "True\n",
            "False\n"
          ]
        }
      ]
    },
    {
      "cell_type": "code",
      "source": [
        "def merge_sorted_lists(lst1, lst2):\n",
        "    return sorted(lst1 + lst2)\n",
        "print(merge_sorted_lists([1, 3, 5], [2, 4, 6]))"
      ],
      "metadata": {
        "colab": {
          "base_uri": "https://localhost:8080/"
        },
        "id": "w8iuBOPoOSH3",
        "outputId": "79dc6ea9-ae60-42b4-c6e1-a369c48986be"
      },
      "id": "w8iuBOPoOSH3",
      "execution_count": null,
      "outputs": [
        {
          "output_type": "stream",
          "name": "stdout",
          "text": [
            "[1, 2, 3, 4, 5, 6]\n"
          ]
        }
      ]
    },
    {
      "cell_type": "code",
      "source": [
        "def merge_sorted_lists(lst1, lst2):\n",
        "    return sorted(lst1 + lst2)\n",
        "print(merge_sorted_lists([1, 3, 5], [2, 4, 6]))"
      ],
      "metadata": {
        "colab": {
          "base_uri": "https://localhost:8080/"
        },
        "id": "5OG7koraOR_Q",
        "outputId": "276a7b43-d739-4738-caf8-a4a6df87b3a1"
      },
      "id": "5OG7koraOR_Q",
      "execution_count": null,
      "outputs": [
        {
          "output_type": "stream",
          "name": "stdout",
          "text": [
            "[1, 2, 3, 4, 5, 6]\n"
          ]
        }
      ]
    },
    {
      "cell_type": "code",
      "source": [
        "def intersection(lst1, lst2):\n",
        "    return list(set(lst1) & set(lst2))\n",
        "print(intersection([1, 2, 3], [2, 3, 4]))"
      ],
      "metadata": {
        "colab": {
          "base_uri": "https://localhost:8080/"
        },
        "id": "3zg0NLSqORkd",
        "outputId": "ef11afb0-8dcc-41a1-9ef5-79ace6835cd8"
      },
      "id": "3zg0NLSqORkd",
      "execution_count": null,
      "outputs": [
        {
          "output_type": "stream",
          "name": "stdout",
          "text": [
            "[2, 3]\n"
          ]
        }
      ]
    },
    {
      "cell_type": "code",
      "source": [
        "def union(lst1, lst2):\n",
        "    return list(set(lst1) | set(lst2))\n",
        "print(union([1, 2, 3], [2, 3, 4]))"
      ],
      "metadata": {
        "colab": {
          "base_uri": "https://localhost:8080/"
        },
        "id": "erng9PLYORal",
        "outputId": "9558c900-26a1-452e-f9c1-7063fb469c97"
      },
      "id": "erng9PLYORal",
      "execution_count": null,
      "outputs": [
        {
          "output_type": "stream",
          "name": "stdout",
          "text": [
            "[1, 2, 3, 4]\n"
          ]
        }
      ]
    },
    {
      "cell_type": "code",
      "source": [
        "import random\n",
        "def shuffle_list(lst):\n",
        "    random.shuffle(lst)\n",
        "    return lst\n",
        "print(shuffle_list([1, 2, 3, 4]))"
      ],
      "metadata": {
        "colab": {
          "base_uri": "https://localhost:8080/"
        },
        "id": "dm9QFWILORR1",
        "outputId": "e14f8ea7-c3e4-46f5-e5fd-103a3a850c50"
      },
      "id": "dm9QFWILORR1",
      "execution_count": null,
      "outputs": [
        {
          "output_type": "stream",
          "name": "stdout",
          "text": [
            "[2, 1, 4, 3]\n"
          ]
        }
      ]
    },
    {
      "cell_type": "code",
      "source": [
        "def common_elements(t1, t2):\n",
        "    return tuple(set(t1) & set(t2))\n",
        "print(common_elements((1, 2, 3), (2, 3, 4)))"
      ],
      "metadata": {
        "colab": {
          "base_uri": "https://localhost:8080/",
          "height": 0
        },
        "id": "jwQhaBnRORIY",
        "outputId": "49fb30cd-d0ca-46fb-a030-4e45b752252c"
      },
      "id": "jwQhaBnRORIY",
      "execution_count": 2,
      "outputs": [
        {
          "output_type": "stream",
          "name": "stdout",
          "text": [
            "(2, 3)\n"
          ]
        }
      ]
    },
    {
      "cell_type": "code",
      "source": [
        "def set_intersection():\n",
        "    set1 = set(map(int, input(\"Enter set 1 (comma-separated): \").split(',')))\n",
        "    set2 = set(map(int, input(\"Enter set 2 (comma-separated): \").split(',')))\n",
        "    return set1 & set2\n",
        "print(set_intersection())"
      ],
      "metadata": {
        "colab": {
          "base_uri": "https://localhost:8080/",
          "height": 0
        },
        "id": "2vqk9nu_Sb7X",
        "outputId": "c4006c3d-6ac8-43ad-b21f-79263fd5acdf"
      },
      "id": "2vqk9nu_Sb7X",
      "execution_count": 8,
      "outputs": [
        {
          "output_type": "stream",
          "name": "stdout",
          "text": [
            "Enter set 1 (comma-separated): 1\n",
            "Enter set 2 (comma-separated): 2\n",
            "set()\n"
          ]
        }
      ]
    },
    {
      "cell_type": "code",
      "source": [
        "def concatenate_tuples(t1, t2):\n",
        "    return t1 + t2\n",
        "print(concatenate_tuples((1, 2), (3, 4)))"
      ],
      "metadata": {
        "id": "KLbxCG9LOPoA",
        "colab": {
          "base_uri": "https://localhost:8080/",
          "height": 0
        },
        "outputId": "93ec2512-0c09-4090-f2e9-ad98630b6365"
      },
      "id": "KLbxCG9LOPoA",
      "execution_count": 9,
      "outputs": [
        {
          "output_type": "stream",
          "name": "stdout",
          "text": [
            "(1, 2, 3, 4)\n"
          ]
        }
      ]
    },
    {
      "cell_type": "code",
      "source": [
        "def difference_between_sets():\n",
        "    set1 = set(input(\"Enter set 1 (comma-separated): \").split(','))\n",
        "    set2 = set(input(\"Enter set 2 (comma-separated): \").split(','))\n",
        "    return set1 - set2\n",
        "print(difference_between_sets())"
      ],
      "metadata": {
        "id": "08BBC-SHOPdN",
        "colab": {
          "base_uri": "https://localhost:8080/",
          "height": 0
        },
        "outputId": "4b5c9a2d-5720-4bdc-97d0-2ba7eac643de"
      },
      "id": "08BBC-SHOPdN",
      "execution_count": 7,
      "outputs": [
        {
          "output_type": "stream",
          "name": "stdout",
          "text": [
            "Enter set 1 (comma-separated): 1\n",
            "Enter set 2 (comma-separated): 2\n",
            "{'1'}\n"
          ]
        }
      ]
    },
    {
      "cell_type": "code",
      "source": [
        "def extract_elements(t, start, end):\n",
        "    return t[start:end]\n",
        "print(extract_elements((1, 2, 3, 4, 5), 1, 4))"
      ],
      "metadata": {
        "colab": {
          "base_uri": "https://localhost:8080/",
          "height": 0
        },
        "id": "FTVTgSCNSAsP",
        "outputId": "b49d8724-4011-4d45-cb7d-9cab6cc256b3"
      },
      "id": "FTVTgSCNSAsP",
      "execution_count": 10,
      "outputs": [
        {
          "output_type": "stream",
          "name": "stdout",
          "text": [
            "(2, 3, 4)\n"
          ]
        }
      ]
    },
    {
      "cell_type": "code",
      "source": [
        "def union_of_characters():\n",
        "    set1 = set(input(\"Enter characters for set 1: \"))\n",
        "    set2 = set(input(\"Enter characters for set 2: \"))\n",
        "    return set1 | set2\n",
        "print(union_of_characters())"
      ],
      "metadata": {
        "id": "WoWNofvjOPSd",
        "colab": {
          "base_uri": "https://localhost:8080/",
          "height": 0
        },
        "outputId": "2f8442d5-1043-49cb-b883-9eb8e9b5c30e"
      },
      "id": "WoWNofvjOPSd",
      "execution_count": 11,
      "outputs": [
        {
          "output_type": "stream",
          "name": "stdout",
          "text": [
            "Enter characters for set 1: 1\n",
            "Enter characters for set 2: 2\n",
            "{'2', '1'}\n"
          ]
        }
      ]
    },
    {
      "cell_type": "code",
      "source": [
        "def max_min_tuple(t):\n",
        "    return max(t), min(t)\n",
        "print(max_min_tuple((1, 2, 3, 4)))"
      ],
      "metadata": {
        "colab": {
          "base_uri": "https://localhost:8080/",
          "height": 0
        },
        "id": "PPkTW5cvTE6K",
        "outputId": "df6c8672-bd3e-4c0a-a8ef-9716534afde9"
      },
      "id": "PPkTW5cvTE6K",
      "execution_count": 12,
      "outputs": [
        {
          "output_type": "stream",
          "name": "stdout",
          "text": [
            "(4, 1)\n"
          ]
        }
      ]
    },
    {
      "cell_type": "code",
      "source": [
        "def set_operations():\n",
        "    set1 = set(map(int, input(\"Enter set 1: \").split(',')))\n",
        "    set2 = set(map(int, input(\"Enter set 2: \").split(',')))\n",
        "    return {\n",
        "        \"union\": set1 | set2,\n",
        "        \"intersection\": set1 & set2,\n",
        "        \"difference\": set1 - set2,\n",
        "    }\n",
        "print(set_operations())"
      ],
      "metadata": {
        "colab": {
          "base_uri": "https://localhost:8080/",
          "height": 0
        },
        "id": "xUegbLnzTNY3",
        "outputId": "aff770a0-155f-44cc-cce4-97f03457ab8b"
      },
      "id": "xUegbLnzTNY3",
      "execution_count": 13,
      "outputs": [
        {
          "output_type": "stream",
          "name": "stdout",
          "text": [
            "Enter set 1: 1\n",
            "Enter set 2: 2\n",
            "{'union': {1, 2}, 'intersection': set(), 'difference': {1}}\n"
          ]
        }
      ]
    },
    {
      "cell_type": "code",
      "source": [
        "def count_occurrences(t, elem):\n",
        "    return t.count(elem)\n",
        "\n",
        "# Example usage\n",
        "t = (1, 2, 3, 4, 3, 3, 5)\n",
        "print(count_occurrences(t, 3))"
      ],
      "metadata": {
        "colab": {
          "base_uri": "https://localhost:8080/",
          "height": 0
        },
        "id": "ztYenlAcTWk8",
        "outputId": "4c8f7676-80ea-476b-f643-62fc7a5ec302"
      },
      "id": "ztYenlAcTWk8",
      "execution_count": 14,
      "outputs": [
        {
          "output_type": "stream",
          "name": "stdout",
          "text": [
            "3\n"
          ]
        }
      ]
    },
    {
      "cell_type": "code",
      "source": [
        "def symmetric_difference():\n",
        "    set1 = set(input(\"Enter elements of set 1 (comma-separated): \").split(','))\n",
        "    set2 = set(input(\"Enter elements of set 2 (comma-separated): \").split(','))\n",
        "    return set1 ^ set2\n",
        "\n",
        "# Example usage\n",
        "print(symmetric_difference())"
      ],
      "metadata": {
        "colab": {
          "base_uri": "https://localhost:8080/",
          "height": 0
        },
        "id": "tjiPms2GTWhG",
        "outputId": "4557950b-321d-40bb-cce5-c567ba4d9082"
      },
      "id": "tjiPms2GTWhG",
      "execution_count": 15,
      "outputs": [
        {
          "output_type": "stream",
          "name": "stdout",
          "text": [
            "Enter elements of set 1 (comma-separated): 1\n",
            "Enter elements of set 2 (comma-separated): 2\n",
            "{'2', '1'}\n"
          ]
        }
      ]
    },
    {
      "cell_type": "code",
      "source": [
        "def word_frequency(words):\n",
        "    freq = {}\n",
        "    for word in words:\n",
        "        freq[word] = freq.get(word, 0) + 1\n",
        "    return freq\n",
        "\n",
        "# Example usage\n",
        "words = [\"apple\", \"banana\", \"apple\", \"orange\", \"banana\", \"apple\"]\n",
        "print(word_frequency(words))"
      ],
      "metadata": {
        "colab": {
          "base_uri": "https://localhost:8080/",
          "height": 0
        },
        "id": "1h2i8mEFTWeS",
        "outputId": "7806100f-2492-485b-810d-1c9bc7bb5037"
      },
      "id": "1h2i8mEFTWeS",
      "execution_count": 16,
      "outputs": [
        {
          "output_type": "stream",
          "name": "stdout",
          "text": [
            "{'apple': 3, 'banana': 2, 'orange': 1}\n"
          ]
        }
      ]
    },
    {
      "cell_type": "code",
      "source": [
        "def merge_dictionaries(dict1, dict2):\n",
        "    merged = dict1.copy()\n",
        "    for key, value in dict2.items():\n",
        "        merged[key] = merged.get(key, 0) + value\n",
        "    return merged\n",
        "\n",
        "# Example usage\n",
        "dict1 = {'a': 1, 'b': 2, 'c': 3}\n",
        "dict2 = {'b': 3, 'c': 4, 'd': 5}\n",
        "print(merge_dictionaries(dict1, dict2))"
      ],
      "metadata": {
        "colab": {
          "base_uri": "https://localhost:8080/",
          "height": 0
        },
        "id": "kgbEUxPaTWbi",
        "outputId": "54a37a7e-7229-40c7-8f87-6063b01c6972"
      },
      "id": "kgbEUxPaTWbi",
      "execution_count": 17,
      "outputs": [
        {
          "output_type": "stream",
          "name": "stdout",
          "text": [
            "{'a': 1, 'b': 5, 'c': 7, 'd': 5}\n"
          ]
        }
      ]
    },
    {
      "cell_type": "code",
      "source": [
        "def access_nested_dict(d, keys):\n",
        "    current = d\n",
        "    for key in keys:\n",
        "        if key in current:\n",
        "            current = current[key]\n",
        "        else:\n",
        "            return None\n",
        "    return current\n",
        "\n",
        "# Example usage\n",
        "nested_dict = {'a': {'b': {'c': 42}}}\n",
        "keys = ['a', 'b', 'c']\n",
        "print(access_nested_dict(nested_dict, keys))\n",
        "print(access_nested_dict(nested_dict, ['a', 'x']))"
      ],
      "metadata": {
        "colab": {
          "base_uri": "https://localhost:8080/",
          "height": 0
        },
        "id": "WOpjH4vuTWSP",
        "outputId": "c8d412b6-934b-4420-ee79-1df93add3597"
      },
      "id": "WOpjH4vuTWSP",
      "execution_count": 18,
      "outputs": [
        {
          "output_type": "stream",
          "name": "stdout",
          "text": [
            "42\n",
            "None\n"
          ]
        }
      ]
    },
    {
      "cell_type": "code",
      "source": [
        "def sort_dict_by_values(d, ascending=True):\n",
        "    return dict(sorted(d.items(), key=lambda x: x[1], reverse=not ascending))\n",
        "\n",
        "# Example usage\n",
        "d = {'a': 3, 'b': 1, 'c': 2}\n",
        "print(sort_dict_by_values(d))\n",
        "print(sort_dict_by_values(d, ascending=False))"
      ],
      "metadata": {
        "colab": {
          "base_uri": "https://localhost:8080/",
          "height": 0
        },
        "id": "EgGB19ACTWPn",
        "outputId": "bf31eaa9-aef0-42dd-82b1-31d9d21976d8"
      },
      "id": "EgGB19ACTWPn",
      "execution_count": 19,
      "outputs": [
        {
          "output_type": "stream",
          "name": "stdout",
          "text": [
            "{'b': 1, 'c': 2, 'a': 3}\n",
            "{'a': 3, 'c': 2, 'b': 1}\n"
          ]
        }
      ]
    },
    {
      "cell_type": "code",
      "source": [
        "def invert_dictionary(d):\n",
        "    inverted = {}\n",
        "    for key, value in d.items():\n",
        "        if value in inverted:\n",
        "            inverted[value].append(key)\n",
        "        else:\n",
        "            inverted[value] = [key]\n",
        "    return inverted\n",
        "\n",
        "# Example usage\n",
        "d = {'a': 1, 'b': 2, 'c': 1}\n",
        "print(invert_dictionary(d))"
      ],
      "metadata": {
        "colab": {
          "base_uri": "https://localhost:8080/",
          "height": 0
        },
        "id": "Bikluq8TTWMx",
        "outputId": "f7bb62c2-d137-44f1-8d31-68cc536726ff"
      },
      "id": "Bikluq8TTWMx",
      "execution_count": 20,
      "outputs": [
        {
          "output_type": "stream",
          "name": "stdout",
          "text": [
            "{1: ['a', 'c'], 2: ['b']}\n"
          ]
        }
      ]
    },
    {
      "cell_type": "code",
      "source": [],
      "metadata": {
        "id": "nPnlSTUQTWII"
      },
      "id": "nPnlSTUQTWII",
      "execution_count": null,
      "outputs": []
    },
    {
      "cell_type": "code",
      "source": [],
      "metadata": {
        "id": "1Mj2fI2bTWFi"
      },
      "id": "1Mj2fI2bTWFi",
      "execution_count": null,
      "outputs": []
    },
    {
      "cell_type": "code",
      "source": [],
      "metadata": {
        "id": "3AcheD71TWCT"
      },
      "id": "3AcheD71TWCT",
      "execution_count": null,
      "outputs": []
    },
    {
      "cell_type": "code",
      "source": [],
      "metadata": {
        "id": "d5KyhHP9TV-B"
      },
      "id": "d5KyhHP9TV-B",
      "execution_count": null,
      "outputs": []
    },
    {
      "cell_type": "code",
      "source": [],
      "metadata": {
        "id": "pQSYIjlYTV4M"
      },
      "id": "pQSYIjlYTV4M",
      "execution_count": null,
      "outputs": []
    },
    {
      "cell_type": "markdown",
      "source": [],
      "metadata": {
        "id": "_fQ7hxWpLiem"
      },
      "id": "_fQ7hxWpLiem"
    }
  ],
  "metadata": {
    "kernelspec": {
      "display_name": "Python 3",
      "name": "python3"
    },
    "language_info": {
      "name": "python"
    },
    "required_libs": [],
    "colab": {
      "provenance": []
    }
  },
  "nbformat": 4,
  "nbformat_minor": 5
}